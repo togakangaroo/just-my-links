{
 "cells": [
  {
   "cell_type": "markdown",
   "id": "f42bd222-9114-4f35-966b-f528cc70754e",
   "metadata": {
    "collapsed": false
   },
   "source": [
    "I believe that I can use [ChromaDb](https://github.com/chroma-core/chroma) to store and query embeddings in my lambda and at my usage rate I shouldn't need the cloud, I can just use it like a file and a library.\n",
    "\n",
    "I want to use this space to play around with ChromaDb. I want to\n",
    "- [x] Set it up\n",
    "- [ ] Store a few articles in it\n",
    "- [ ] Query them by concept\n",
    "- [ ] Check out file size"
   ]
  },
  {
   "cell_type": "markdown",
   "id": "5c7144e5-2caf-4965-9820-2277d59bb688",
   "metadata": {
    "collapsed": false
   },
   "source": [
    "# Set up Chroma"
   ]
  },
  {
   "cell_type": "code",
   "execution_count": null,
   "id": "8b11976e-ec29-42f3-945f-a09635dc5d11",
   "metadata": {
    "collapsed": true
   },
   "outputs": [],
   "source": [
    "! uv add chromadb"
   ]
  },
  {
   "cell_type": "markdown",
   "id": "506c7cd2-9207-4d63-9265-62f4be1d072f",
   "metadata": {
    "collapsed": false
   },
   "source": [
    "Lets do the [getting started demo](https://docs.trychroma.com/docs/overview/getting-started)"
   ]
  },
  {
   "cell_type": "code",
   "execution_count": 4,
   "id": "e9b49d48-53bb-46b1-b1c1-122b12ade665",
   "metadata": {
    "collapsed": false
   },
   "outputs": [],
   "source": [
    "import chromadb\n",
    "\n",
    "chroma = chromadb.Client()\n",
    "collection = chroma.create_collection(name=\"my_collection\")"
   ]
  },
  {
   "cell_type": "code",
   "execution_count": null,
   "id": "c8945618-773d-416d-85be-b42fb7ef711b",
   "metadata": {
    "collapsed": false
   },
   "outputs": [],
   "source": [
    "import os\n",
    "\n",
    "for filename in ('~/org/roam/20210201142522-aunt_bertha.org', '~/org/roam/20201217104700-linux.org', '~/org/roam/20250329144210-makey_makey.org'):\n",
    "    with open(os.path.expanduser(filename)) as fh:\n",
    "        collection.add(\n",
    "            documents=[fh.read()], ids=[f'file:{filename}']\n",
    "        )\n"
   ]
  },
  {
   "cell_type": "code",
   "execution_count": 20,
   "id": "83de9358-f8be-4236-8544-85a605802c3f",
   "metadata": {
    "collapsed": false
   },
   "outputs": [
    {
     "data": {
      "text/plain": [
       "[['file:~/org/roam/20210201142522-aunt_bertha.org']]"
      ]
     },
     "execution_count": 20,
     "metadata": {},
     "output_type": "execute_result"
    }
   ],
   "source": [
    "collection.query(query_texts=['this is a document about a company'], n_results=1)['ids']"
   ]
  },
  {
   "cell_type": "code",
   "execution_count": 37,
   "id": "41cfba71-75a9-4a54-9b4b-7890e665213c",
   "metadata": {
    "collapsed": false
   },
   "outputs": [
    {
     "data": {
      "text/plain": [
       "[['file:~/org/roam/20250329144210-makey_makey.org']]"
      ]
     },
     "execution_count": 37,
     "metadata": {},
     "output_type": "execute_result"
    }
   ],
   "source": [
    "collection.query(query_texts=['hardware'], n_results=1)['ids']"
   ]
  },
  {
   "cell_type": "code",
   "execution_count": 36,
   "id": "6866c339-88df-4a10-84db-304642b30f64",
   "metadata": {
    "collapsed": false
   },
   "outputs": [
    {
     "name": "stdout",
     "output_type": "stream",
     "text": [
      "[['file:~/org/roam/20210201142522-aunt_bertha.org', 'file:~/org/roam/20250329144210-makey_makey.org', 'file:~/org/roam/20201217104700-linux.org']]\n",
      "[[1.6893099546432495, 1.7166938781738281, 1.9256236553192139]]\n"
     ]
    }
   ],
   "source": [
    "res = collection.query(query_texts=['open source'], n_results=3)\n",
    "print(res['ids'])\n",
    "print(res['distances'])"
   ]
  },
  {
   "cell_type": "markdown",
   "id": "b4d91a9a-c866-4167-a201-c9aaeb6cb572",
   "metadata": {
    "collapsed": false
   },
   "source": [
    "That's not great that I can't ever get linux to pop up first. I suppose this is good enough for a prototype but in the future we will want to experiment with\n",
    "- [using other embedding functions](https://docs.trychroma.com/docs/collections/configure#embedding-function-configuration)\n",
    "- [a different space calculation](https://docs.trychroma.com/docs/collections/configure#configuring-chroma-collections)\n",
    "- [index configuration](https://docs.trychroma.com/docs/collections/configure#hnsw-index-configuration)\n",
    "\n",
    "[more on fine tuning on that page](https://docs.trychroma.com/docs/collections/configure#fine-tuning-hnsw-parameters)"
   ]
  }
 ],
 "metadata": {
  "kernelspec": {
   "argv": [
    "python",
    "-m",
    "ipykernel_launcher",
    "-f",
    "{connection_file}"
   ],
   "display_name": "Python 3 (ipykernel)",
   "env": null,
   "interrupt_mode": "signal",
   "language": "python",
   "metadata": {
    "debugger": true
   },
   "name": "python3"
  },
  "name": "chromadb-playground.ipynb"
 },
 "nbformat": 4,
 "nbformat_minor": 5
}
