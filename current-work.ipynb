{
 "cells": [
  {
   "cell_type": "code",
   "execution_count": null,
   "id": "7e225e20-6570-421b-a6bb-d1138dd0a507",
   "metadata": {
    "collapsed": false
   },
   "outputs": [],
   "source": [
    "%env AWS-PROFILE=just-my-links\n",
    "\n",
    "import boto3\n",
    "import requests\n",
    "import json\n"
   ]
  },
  {
   "cell_type": "code",
   "execution_count": 2,
   "id": "fd580ac9-2d8a-4eb6-a320-e55d536cf784",
   "metadata": {
    "collapsed": false
   },
   "outputs": [],
   "source": [
    "cloudformation_outputs_res = !aws cloudformation describe-stacks --stack-name just-my-links-dev --query 'Stacks[0].Outputs'\n",
    "cloudformation_outputs = {x['OutputKey']: x['OutputValue'] for x in json.loads(''.join(cloudformation_outputs_res))}\n",
    "application_bucket_name = cloudformation_outputs['ApplicationBucketName']\n",
    "index_service_uri = cloudformation_outputs['HttpApiUrl']\n",
    "index_service_arn = cloudformation_outputs['LambdaFunctionArn']\n",
    "auth_token_secret_arn = cloudformation_outputs['BearerTokenSecretName']"
   ]
  },
  {
   "cell_type": "markdown",
   "id": "27c63d15-423e-4527-9ddb-7e25ac0b9a46",
   "metadata": {
    "collapsed": false
   },
   "source": [
    "See the logs"
   ]
  },
  {
   "cell_type": "code",
   "execution_count": 95,
   "id": "1a1152a7-2c97-4ee1-acd9-0d18bc4d8264",
   "metadata": {
    "collapsed": false
   },
   "outputs": [
    {
     "name": "stdout",
     "output_type": "stream",
     "text": [
      "\u001b[32m2025-06-05T23:13:57.768000+00:00\u001b[0m \u001b[36m2025/06/05/[$LATEST]e82281bb35a246999e6b793e72302b2f\u001b[0m START RequestId: ab2287e1-0d6c-4e8f-8da2-ab2e581cf391 Version: $LATEST\r\n",
      "\u001b[32m2025-06-05T23:13:57.769000+00:00\u001b[0m \u001b[36m2025/06/05/[$LATEST]e82281bb35a246999e6b793e72302b2f\u001b[0m {\"level\":\"INFO\",\"location\":\"lambda_handler:110\",\"message\":\"Lambda handler invoked\",\"timestamp\":\"2025-06-05 23:13:57,769+0000\",\"service\":\"service_undefined\",\"cold_start\":true,\"function_name\":\"dev-just-my-links-index-document\",\"function_memory_size\":\"1024\",\"function_arn\":\"arn:aws:lambda:us-east-1:145216492484:function:dev-just-my-links-index-document\",\"function_request_id\":\"ab2287e1-0d6c-4e8f-8da2-ab2e581cf391\",\"correlation_id\":\"LtqsFi-yIAMEZ1w=\",\"event_type\":\"unknown\",\"xray_trace_id\":\"1-684224b3-6315e57a476fb72c3d301224\"}\r\n",
      "\u001b[32m2025-06-05T23:13:57.770000+00:00\u001b[0m \u001b[36m2025/06/05/[$LATEST]e82281bb35a246999e6b793e72302b2f\u001b[0m {\"_aws\":{\"Timestamp\":1749165237769,\"CloudWatchMetrics\":[{\"Namespace\":\"just-my-links\",\"Dimensions\":[[]],\"Metrics\":[{\"Name\":\"UnauthorizedRequests\",\"Unit\":\"Count\"}]}]},\"UnauthorizedRequests\":[1.0]}\r\n",
      "\u001b[32m2025-06-05T23:13:57.776000+00:00\u001b[0m \u001b[36m2025/06/05/[$LATEST]e82281bb35a246999e6b793e72302b2f\u001b[0m END RequestId: ab2287e1-0d6c-4e8f-8da2-ab2e581cf391\r\n",
      "\u001b[32m2025-06-05T23:13:57.776000+00:00\u001b[0m \u001b[36m2025/06/05/[$LATEST]e82281bb35a246999e6b793e72302b2f\u001b[0m REPORT RequestId: ab2287e1-0d6c-4e8f-8da2-ab2e581cf391\tDuration: 8.47 ms\tBilled Duration: 2017 ms\tMemory Size: 1024 MB\tMax Memory Used: 97 MB\tInit Duration: 2007.88 ms\r\n"
     ]
    },
    {
     "name": "stdout",
     "output_type": "stream",
     "text": [
      "\u001b[0m"
     ]
    }
   ],
   "source": [
    "!aws logs tail /aws/lambda/dev-just-my-links-index-document"
   ]
  },
  {
   "cell_type": "code",
   "execution_count": 4,
   "id": "0a028aed-82e4-47aa-b9fe-9cc6521f7bd9",
   "metadata": {
    "collapsed": false
   },
   "outputs": [],
   "source": [
    "secrets_client = boto3.client('secretsmanager')\n",
    "auth_token_response = secrets_client.get_secret_value(SecretId=auth_token_secret_arn)\n",
    "auth_token = auth_token_response['SecretString']"
   ]
  },
  {
   "cell_type": "code",
   "execution_count": 8,
   "id": "db8869b1-f9b7-48ba-b18a-4f7cddd7e8e8",
   "metadata": {
    "collapsed": false
   },
   "outputs": [
    {
     "data": {
      "text/plain": [
       "(501,\n",
       " '{\"message\":\"Not yet implemented - will download ChromaDB from S3, operate locally, then upload back\"}')"
      ]
     },
     "execution_count": 8,
     "metadata": {},
     "output_type": "execute_result"
    }
   ],
   "source": [
    "response = requests.post(\n",
    "    index_service_uri,\n",
    "    headers={\"Content-Type\": \"application/json\", \"Authorization\": f\"Bearer {auth_token}\"},\n",
    "    json={\"url\": \"https://example.com\", \"title\": \"Test Document\"}\n",
    ")\n",
    "\n",
    "response.status_code, response.text"
   ]
  },
  {
   "cell_type": "markdown",
   "id": "f7bd9aea-d0b3-40e0-bfb0-4c452a81d097",
   "metadata": {
    "collapsed": false
   },
   "source": [
    "Deploy changes to the lambda image with index-service deployment script"
   ]
  },
  {
   "cell_type": "code",
   "execution_count": null,
   "id": "3126b0d1-e7e9-4292-a5af-1f57a23f0f51",
   "metadata": {
    "collapsed": false
   },
   "outputs": [],
   "source": [
    "! scripts/deploy-indexing-service.py dev"
   ]
  },
  {
   "cell_type": "markdown",
   "id": "659ba194-bf34-442b-8387-05249a0aa8c0",
   "metadata": {
    "collapsed": false
   },
   "source": [
    "Turn on debug logging with"
   ]
  },
  {
   "cell_type": "code",
   "execution_count": null,
   "id": "84d323f0-fcd5-4085-a711-d0d4d17b61da",
   "metadata": {
    "collapsed": false
   },
   "outputs": [],
   "source": [
    "function_name = 'dev-just-my-links-index-document'\n",
    "lambda_client = boto3.client('lambda')\n",
    "\n",
    "response = lambda_client.get_function_configuration(FunctionName=function_name)\n",
    "\n",
    "current_variables = {**response.get('Environment', {}).get('Variables', {}), \"LOG_LEVEL\": \"DEBUG\"}\n",
    "\n",
    "lambda_client.update_function_configuration(FunctionName=function_name, Environment={'Variables': current_variables})"
   ]
  },
  {
   "cell_type": "markdown",
   "id": "626747f1-98fe-4f0f-8c3f-1d359d723e77",
   "metadata": {
    "collapsed": false
   },
   "source": []
  }
 ],
 "metadata": {
  "kernelspec": {
   "argv": [
    "python",
    "-m",
    "ipykernel_launcher",
    "-f",
    "{connection_file}"
   ],
   "display_name": "Python 3 (ipykernel)",
   "env": null,
   "interrupt_mode": "signal",
   "language": "python",
   "metadata": {
    "debugger": true
   },
   "name": "python3"
  },
  "name": "current-work.ipynb"
 },
 "nbformat": 4,
 "nbformat_minor": 5
}
