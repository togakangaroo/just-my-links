{
 "cells": [
  {
   "cell_type": "markdown",
   "id": "0777a628-b4be-4b8e-bbf1-5bf2695b9a62",
   "metadata": {
    "collapsed": false
   },
   "source": [
    "# AWS SSO Configuration\n",
    "\n",
    "This notebook guides you through setting up AWS SSO for easier admin CLI access. When done, you will be able to log into your AWS account from the cli with something like this:\n",
    "\n",
    "```shell\n",
    "export AWS_PROFILE=just-my-links\n",
    "aws sso login\n",
    "```\n",
    "\n",
    "While not necessary to do it this way, it makes it easier to use AWS from your CLI. You do need CLI access to AWS if you are going to be running Terraform locally (which is very helpful for development).\n",
    "\n",
    "Note that this is *only a good idea* for the admin account you use to inspect and interact with AWS in the course of ops duties. You do not want to (and in fact can't) use this process for CI/CD.\n",
    "\n",
    "To do this you first need to\n",
    "\n",
    "- Have or create an AWS account (you will need to supply a payment method though the expectation is that usage will be low enough to not get billed.)\n",
    "- Log into your AWS account via the UI.\n",
    "  - Ideally as part of account creation you created a superuser non-root account that you are using. Avoid using the root user whenever possible!\n",
    "- Navigate to *IAM Identity Center* and click *Enable*"
   ]
  },
  {
   "cell_type": "markdown",
   "id": "c548e16a-a3fb-4afc-9ac8-b6eb1254ecd4",
   "metadata": {
    "collapsed": false
   },
   "source": [
    "Now we want to set up an sso user.\n",
    "\n",
    "The following will all be in CloudShell console in the browser. Code is denoted in markdown specifically for that reason - it is not meant to be run locally on your machine since you have not set up your cli to connect to aws yet. Instead, copy and paste it into Cloudshell within the AWS console in your browser.\n",
    "\n",
    "When Identity Center is enabled you should be able to run this to see an instance of an organization:\n",
    "\n",
    "```shell\n",
    "aws sso-admin list-instances\n",
    "```\n",
    "\n",
    "The following assumes that you have just one instance above. If not you will want to identify what the correct one is (probably the one with \"sso\" in the arn) and use its arn instead of the dynamically queried one below\n",
    "\n",
    "Lets record our instance arn, account id, and identity store id into variables within the current CLI session just so we have rapid access to them\n",
    "```shell\n",
    "ACCOUNT_ID=$(aws sts get-caller-identity --query \"Account\" --output text)\n",
    "INSTANCE_ARN=$(aws sso-admin list-instances --query 'Instances[0].InstanceArn' --output text)\n",
    "IDENTITY_STORE_ID=$(aws sso-admin list-instances --query 'Instances[0].IdentityStoreId' --output text)\n",
    "```\n",
    "\n",
    "Note the `IDENTITY_STORE_ID` above. Your sso instance has a url that you will visit to log in, you will need to note it. It will be something like `https://d-00000000bba.awsapps.com/start/#` you can get it with\n",
    "```shell\n",
    "echo \"https://$IDENTITY_STORE_ID.awsapps.com/start/#\"\n",
    "```\n",
    "\n",
    "You'll need this for sso configuration further down\n",
    "\n",
    "Then create an admin permission set:\n",
    "```shell\n",
    "aws sso-admin create-permission-set \\\n",
    "  --instance-arn \"$INSTANCE_ARN\" \\\n",
    "  --name \"AdministratorAccess\" \\\n",
    "  --description \"Provides full access to AWS services and resources\" \\\n",
    "  --session-duration \"PT8H\"\n",
    "```\n",
    "Note the permission set arn noted above you will use it. Assuming it is the only one (it should be), you can set it manually the variable below or just run this\n",
    "\n",
    "```shell\n",
    "PERMISSION_SET_ARN=$(aws sso-admin list-permission-sets-provisioned-to-account \\\n",
    "                        --instance-arn \"$INSTANCE_ARN\" \\\n",
    "                        --account-id \"$ACCOUNT_ID\" \\\n",
    "                        --output text \\\n",
    "                        --query \"PermissionSets[0]\")\n",
    "```\n",
    "\n",
    "We then want to attach the admin access policy to this permission set.\n",
    "\n",
    "Use this to determine if the first found permission set is indeed the admin permission set - it will say \"AdministratorAccess\"\n",
    "\n",
    "```shell\n",
    "aws sso-admin describe-permission-set \\\n",
    "  --instance-arn \"$INSTANCE_ARN\" \\\n",
    "  --permission-set-arn \"$PERMISSION_SET_ARN\"\n",
    "```\n",
    "\n",
    "Then if so, attach the admin policy:\n",
    "\n",
    "```shell\n",
    "aws sso-admin attach-managed-policy-to-permission-set \\\n",
    "  --instance-arn \"$INSTANCE_ARN\"\n",
    "  --permission-set-arn \"$PERMISSION_SET_ARN\" \\\n",
    "  --managed-policy-arn \"arn:aws:iam::aws:policy/AdministratorAccess\"\n",
    "```\n",
    "\n",
    "Create an sso user for yourself. **Use your own values for email and name!** I don't want to be getting your reset links.\n",
    "```shell\n",
    "MY_EMAIL=gmauer@gmail.com\n",
    "MY_GIVEN_NAME=George\n",
    "MY_FAMILY_NAME=Mauer\n",
    "aws identitystore create-user \\\n",
    "  --identity-store-id \"$IDENTITY_STORE_ID\" \\\n",
    "  --user-name \"$MY_EMAIL\" \\\n",
    "  --name \"GivenName=$MY_GIVEN_NAME,FamilyName=$MY_FAMILY_NAME\" \\\n",
    "  --emails \"Value=$MY_EMAIL,Type=Primary\" \\\n",
    "  --display-name \"$MY_GIVEN_NAME $MY_FAMILY_NAME\"\n",
    "```\n",
    "\n",
    "Now lets assign admin access to this user. Note that the below looks up the id of the user created above by username. If you have it you can just sub it in\n",
    "\n",
    "```shell\n",
    "aws sso-admin create-account-assignment \\\n",
    "  --instance-arn \"$INSTANCE_ARN\" \\\n",
    "  --target-id \"$ACCOUNT_ID\" \\\n",
    "  --target-type AWS_ACCOUNT \\\n",
    "  --permission-set-arn \"$PERMISSION_SET_ARN\" \\\n",
    "  --principal-type USER \\\n",
    "  --principal-id $(aws identitystore list-users --identity-store-id $\"$IDENTITY_STORE_ID\" --filters \"AttributePath=UserName,AttributeValue=$MY_EMAIL\" --query 'Users[0].UserId' --output text)\n",
    "```\n",
    "\n",
    "Finally, you will need to set up a password for this user. *This is not doable through the CLI*.\n",
    "- Check your email, you will likely have to click a link to confirm it.\n",
    "- Go to the IAM Identity Center\n",
    "- Navigate to Users\n",
    "- Select your user\n",
    "- Click the \"Reset Password\" button\n",
    "\n",
    "You may select the appropriate thing at this point but a straightforward recommendation is to select \"generate a one-time password\" and copy it to be used when logging in"
   ]
  },
  {
   "cell_type": "markdown",
   "id": "1563a5b6-3baa-4869-b599-320813190f83",
   "metadata": {
    "collapsed": false
   },
   "source": [
    "For this next part you'll need the sso login url we calculated above from the `IDENTITY_STORE_ID` and your new user email/password.\n",
    "\n",
    "*The following is in the local CLI* and you should have to do it only once:"
   ]
  },
  {
   "cell_type": "code",
   "execution_count": null,
   "id": "dcdf0a4b-b498-4e46-bf5a-6ba73bed397b",
   "metadata": {
    "collapsed": false
   },
   "outputs": [],
   "source": [
    "!aws configure sso"
   ]
  },
  {
   "cell_type": "markdown",
   "id": "1a8469bd-05d0-4455-9fdb-1bda8e97ae7f",
   "metadata": {
    "collapsed": false
   },
   "source": [
    "During login, reset your password [using your password manager](https://1password.com/) and ideally set up MFA. Click through menues to eventually get the AWS apps account screen. This is very useful for managing multiple aws accounts. Here you can log into a specific account as a user or view sso keys, however we're just going to set up a profile locally so you can click off of this screen.\n",
    "\n",
    "For the following you'll need the `ACCOUNT_ID` from above and the SSO login url you just use. Create an entry in [~/.aws/config](~/.aws/config) that looks like this:\n",
    "\n",
    "```toml\n",
    "[profile just-my-links]\n",
    "sso_start_url = FILL_IN_YOUR_SSO_LINK\n",
    "sso_account_id = FILL_IN_YOUR_ACCOUNT_ID\n",
    "sso_region = us-east-1\n",
    "sso_role_name = AdministratorAccess\n",
    "sso_session_name = default\n",
    "output = json\n",
    "region = us-east-1\n",
    "```"
   ]
  },
  {
   "cell_type": "markdown",
   "id": "2c25190c-3576-4c52-8b8d-945b8b19c1bc",
   "metadata": {
    "collapsed": false
   },
   "source": [
    "You may then login with SSO by first setting your aws profile to use the `just-my-links` profile"
   ]
  },
  {
   "cell_type": "code",
   "execution_count": 1,
   "id": "4e41ef53-34b7-4037-a687-1171012bc52d",
   "metadata": {
    "collapsed": false
   },
   "outputs": [
    {
     "name": "stdout",
     "output_type": "stream",
     "text": [
      "env: AWS_PROFILE=just-my-links\n"
     ]
    }
   ],
   "source": [
    "%env AWS_PROFILE=just-my-links"
   ]
  },
  {
   "cell_type": "markdown",
   "id": "897b94b4-2803-4ba4-969c-e3ea59ddc412",
   "metadata": {
    "collapsed": false
   },
   "source": [
    "And finally you can log in"
   ]
  },
  {
   "cell_type": "code",
   "execution_count": null,
   "id": "96a2171f-2c89-4e82-962a-882db1bdcec1",
   "metadata": {
    "collapsed": false
   },
   "outputs": [],
   "source": [
    "!aws sso login"
   ]
  },
  {
   "cell_type": "markdown",
   "id": "292ba2d2-2655-4e16-b387-558999a82343",
   "metadata": {
    "collapsed": false
   },
   "source": [
    "A browser window will open and you will be prompted to click through a series of screens (remember to use your password manager!). You may also visit the above link manually and click through.\n",
    "\n",
    "You will now be connected to your aws account. Note that the way `aws sso` works, your login is per-profile, not per-cli-session. You don't need to manage aws keys environment variables or anything like that. So long as the profile used is the above, you will be logged in as long as your sso session lasts. Running the following should show you your logged in user identity."
   ]
  },
  {
   "cell_type": "code",
   "execution_count": 3,
   "id": "fe88aeec-3b8f-41cb-b7dc-ccf306c977f0",
   "metadata": {
    "collapsed": false
   },
   "outputs": [
    {
     "name": "stdout",
     "output_type": "stream",
     "text": [
      "{\r\n",
      "    \"UserId\": \"AROASDT4T2PCFCLRY32IU:gmauer@gmail.com\",\r\n",
      "    \"Account\": \"145216492484\",\r\n",
      "    \"Arn\": \"arn:aws:sts::145216492484:assumed-role/AWSReservedSSO_AdministratorAccess_7d6c5139d9951c91/gmauer@gmail.com\"\r\n",
      "}\r\n"
     ]
    }
   ],
   "source": [
    "!aws sts get-caller-identity"
   ]
  },
  {
   "cell_type": "markdown",
   "id": "0288eb0c-8f96-4fe6-b9ae-eb4eb565e371",
   "metadata": {
    "collapsed": false
   },
   "source": [
    "This session will last as we configured in the permission set (8h above) and as long as your `aws` environment knows which profile to use (typically by ensuring the `AWS_PROFILE` environment variable is set) you will be logged in.\n",
    "\n",
    "Be careful with this, your local cli now has admin access!"
   ]
  },
  {
   "cell_type": "markdown",
   "id": "d7d685cc-f0f3-435d-b738-719f5d8bf6c4",
   "metadata": {
    "collapsed": false
   },
   "source": [
    "# Working with deployment\n",
    "\n",
    "## Initial Infrastructure deployment\n",
    "\n",
    "We deploy cloudformation in two runs. The first sets up our \"initial\" things that must exist and the second our lambdas that are built on top of it. We have to pass `IsFirstRun=true` like so\n",
    "\n",
    "Note that the following will deploy a stack with the \"dev\" suffix implying its a dev environment"
   ]
  },
  {
   "cell_type": "code",
   "execution_count": null,
   "id": "cb2adc2d-c4c6-49ca-8936-2d348e0dc438",
   "metadata": {
    "collapsed": false
   },
   "outputs": [],
   "source": [
    "!cd ./cloudformation && ./scripts/deploy.sh dev IsFirstRun=true"
   ]
  },
  {
   "cell_type": "markdown",
   "id": "aa261313-6d0e-41e0-9d7a-d6eda1a61940",
   "metadata": {
    "collapsed": false
   },
   "source": [
    "You can query potential errors of your stack with the following, again, note that `-dev` suffix which is due to the `dev` environment being used above"
   ]
  },
  {
   "cell_type": "code",
   "execution_count": null,
   "id": "31634614-a825-439a-a5f0-f1d95b788e80",
   "metadata": {
    "collapsed": false
   },
   "outputs": [],
   "source": [
    "!aws cloudformation describe-stack-events --stack-name just-my-links-dev --query 'StackEvents[?ResourceStatus==`CREATE_FAILED` || ResourceStatus==`ROLLBACK_IN_PROGRESS` || ResourceStatus==`ROLLBACK_COMPLETE`]' | cat"
   ]
  },
  {
   "cell_type": "markdown",
   "id": "69f6f79d-d526-47b3-9254-96f8c77a9979",
   "metadata": {
    "collapsed": false
   },
   "source": [
    "On failure, before trying again, you might need to delete your stack"
   ]
  },
  {
   "cell_type": "code",
   "execution_count": 6,
   "id": "dd58c658-d691-4d44-8ded-9170be32463b",
   "metadata": {
    "collapsed": false
   },
   "outputs": [],
   "source": [
    "!aws cloudformation delete-stack --stack-name just-my-links-dev"
   ]
  },
  {
   "cell_type": "markdown",
   "id": "c095b9b8-6814-49bb-8aba-5ec5654109da",
   "metadata": {
    "collapsed": false
   },
   "source": [
    "You can also check outputs of the cloudformation stack like this"
   ]
  },
  {
   "cell_type": "code",
   "execution_count": 33,
   "id": "554c31dd-4668-42fc-93cb-4fa9c2511ec7",
   "metadata": {
    "collapsed": false
   },
   "outputs": [
    {
     "name": "stdout",
     "output_type": "stream",
     "text": [
      "[\r\n",
      "    {\r\n",
      "        \"OutputKey\": \"ApiGatewayUrl\",\r\n",
      "        \"OutputValue\": \"https://4jn6wkqrbi.execute-api.us-east-1.amazonaws.com/dev/index-document\",\r\n",
      "        \"Description\": \"API Gateway endpoint URL\",\r\n",
      "        \"ExportName\": \"dev-just-my-links-api-url\"\r\n",
      "    },\r\n",
      "    {\r\n",
      "        \"OutputKey\": \"EfsFileSystemId\",\r\n",
      "        \"OutputValue\": \"fs-073b00ff92cfed54d\",\r\n",
      "        \"Description\": \"EFS File System ID for CLI access\",\r\n",
      "        \"ExportName\": \"dev-just-my-links-efs-id\"\r\n",
      "    },\r\n",
      "    {\r\n",
      "        \"OutputKey\": \"EcrRepositoryUri\",\r\n",
      "        \"OutputValue\": \"145216492484.dkr.ecr.us-east-1.amazonaws.com/dev-just-my-links-lambda\",\r\n",
      "        \"Description\": \"ECR Repository URI\"\r\n",
      "    },\r\n",
      "    {\r\n",
      "        \"OutputKey\": \"LambdaFunctionArn\",\r\n",
      "        \"OutputValue\": \"arn:aws:lambda:us-east-1:145216492484:function:dev-just-my-links-index-document\",\r\n",
      "        \"Description\": \"Lambda function ARN\"\r\n",
      "    },\r\n",
      "    {\r\n",
      "        \"OutputKey\": \"BearerTokenSecretName\",\r\n",
      "        \"OutputValue\": \"arn:aws:secretsmanager:us-east-1:145216492484:secret:dev-just-my-links-bearer-token-c10ova\",\r\n",
      "        \"Description\": \"Name of the bearer token secret in Secrets Manager\",\r\n",
      "        \"ExportName\": \"dev-just-my-links-bearer-token-secret-name\"\r\n",
      "    }\r\n",
      "]\r\n"
     ]
    }
   ],
   "source": [
    "!aws cloudformation describe-stacks --stack-name just-my-links-dev --query 'Stacks[0].Outputs'"
   ]
  },
  {
   "cell_type": "markdown",
   "id": "95ea52de-b983-4de3-8b45-dc735b6b43f0",
   "metadata": {
    "collapsed": false
   },
   "source": [
    "At this pont we need to build and upload an image so our lambda can reference it when its deployed."
   ]
  },
  {
   "cell_type": "code",
   "execution_count": null,
   "id": "58d9885a-aaa6-44b5-b873-4ebab51f7a25",
   "metadata": {
    "collapsed": false
   },
   "outputs": [],
   "source": [
    "!cd ./indexing-service && ./scripts/deploy.sh"
   ]
  },
  {
   "cell_type": "markdown",
   "id": "3553dbb5-1f37-4b99-adcf-98c7c61e3ef8",
   "metadata": {
    "collapsed": false
   },
   "source": [
    "View what's been published"
   ]
  },
  {
   "cell_type": "code",
   "execution_count": 19,
   "id": "d9db7f86-b3b5-4044-b155-38c890be8f8a",
   "metadata": {
    "collapsed": false
   },
   "outputs": [
    {
     "name": "stdout",
     "output_type": "stream",
     "text": [
      "{\r\n",
      "    \"imageIds\": [\r\n",
      "        {\r\n",
      "            \"imageDigest\": \"sha256:b78d20499f7adbbe754e227b53a60e85e0f284a728400d2300d5ea5483250f1e\",\r\n",
      "            \"imageTag\": \"latest\"\r\n",
      "        }\r\n",
      "    ]\r\n",
      "}\r\n"
     ]
    }
   ],
   "source": [
    "!aws ecr list-images --repository-name dev-just-my-links-lambda"
   ]
  },
  {
   "cell_type": "markdown",
   "id": "99828971-6d93-471f-8cc0-d0bfc526ae09",
   "metadata": {
    "collapsed": false
   },
   "source": [
    "And now we can do the rest of the deploy"
   ]
  },
  {
   "cell_type": "code",
   "execution_count": null,
   "id": "0a53fc8b-9f86-45dc-969f-7bf15e56f50c",
   "metadata": {
    "collapsed": false
   },
   "outputs": [],
   "source": [
    "!cd ./cloudformation && ./scripts/deploy.sh dev"
   ]
  },
  {
   "cell_type": "markdown",
   "id": "a4f4557e-4a47-435c-ae24-b1f502f75237",
   "metadata": {
    "collapsed": false
   },
   "source": [
    "This will give us an api gateway url\n",
    "\n",
    "TODO - Add in dns configuration here"
   ]
  },
  {
   "cell_type": "code",
   "execution_count": 97,
   "id": "ef362dac-eeb1-4aca-963c-7587b4b64d7a",
   "metadata": {
    "collapsed": false
   },
   "outputs": [
    {
     "data": {
      "text/plain": [
       "(401, '{\"error\":\"Unauthorized\"}')"
      ]
     },
     "execution_count": 97,
     "metadata": {},
     "output_type": "execute_result"
    }
   ],
   "source": [
    "import requests\n",
    "\n",
    "response = requests.post(\n",
    "    \"https://4jn6wkqrbi.execute-api.us-east-1.amazonaws.com/dev/index-document\",\n",
    "    headers={\"Content-Type\": \"application/json\"},\n",
    "    json={\"url\": \"https://example.com\", \"title\": \"Test Document\"}\n",
    ")\n",
    "response.status_code, response.text"
   ]
  },
  {
   "cell_type": "markdown",
   "id": "27c63d15-423e-4527-9ddb-7e25ac0b9a46",
   "metadata": {
    "collapsed": false
   },
   "source": [
    "And see the logs"
   ]
  },
  {
   "cell_type": "code",
   "execution_count": 35,
   "id": "1a1152a7-2c97-4ee1-acd9-0d18bc4d8264",
   "metadata": {
    "collapsed": false
   },
   "outputs": [
    {
     "name": "stdout",
     "output_type": "stream",
     "text": [
      "\u001b[32m2025-06-03T20:43:12.398000+00:00\u001b[0m \u001b[36m2025/06/03/[$LATEST]762fca1dbb24466292f08e31583a2784\u001b[0m START RequestId: 23a4dd7f-3976-4cac-b719-6ed8ad5f4a5e Version: $LATEST\r\n",
      "\u001b[32m2025-06-03T20:43:12.399000+00:00\u001b[0m \u001b[36m2025/06/03/[$LATEST]762fca1dbb24466292f08e31583a2784\u001b[0m {\"level\":\"INFO\",\"location\":\"lambda_handler:94\",\"message\":\"Lambda handler invoked\",\"timestamp\":\"2025-06-03 20:43:12,399+0000\",\"service\":\"service_undefined\",\"cold_start\":true,\"function_name\":\"dev-just-my-links-index-document\",\"function_memory_size\":\"1024\",\"function_arn\":\"arn:aws:lambda:us-east-1:145216492484:function:dev-just-my-links-index-document\",\"function_request_id\":\"23a4dd7f-3976-4cac-b719-6ed8ad5f4a5e\",\"correlation_id\":\"07aaf792-ec78-4a2d-a692-bdb20699079b\",\"event_type\":\"POST\",\"xray_trace_id\":\"1-683f5e5d-723a91a22a0885745a79d0c2\"}\r\n",
      "\u001b[32m2025-06-03T20:43:12.399000+00:00\u001b[0m \u001b[36m2025/06/03/[$LATEST]762fca1dbb24466292f08e31583a2784\u001b[0m {\"level\":\"INFO\",\"location\":\"index_document:64\",\"message\":\"Received document indexing request\",\"timestamp\":\"2025-06-03 20:43:12,399+0000\",\"service\":\"service_undefined\",\"cold_start\":true,\"function_name\":\"dev-just-my-links-index-document\",\"function_memory_size\":\"1024\",\"function_arn\":\"arn:aws:lambda:us-east-1:145216492484:function:dev-just-my-links-index-document\",\"function_request_id\":\"23a4dd7f-3976-4cac-b719-6ed8ad5f4a5e\",\"correlation_id\":\"07aaf792-ec78-4a2d-a692-bdb20699079b\",\"xray_trace_id\":\"1-683f5e5d-723a91a22a0885745a79d0c2\"}\r\n",
      "\u001b[32m2025-06-03T20:43:12.399000+00:00\u001b[0m \u001b[36m2025/06/03/[$LATEST]762fca1dbb24466292f08e31583a2784\u001b[0m {\"level\":\"WARNING\",\"location\":\"authenticate_request:44\",\"message\":\"Missing or invalid Authorization header format\",\"timestamp\":\"2025-06-03 20:43:12,399+0000\",\"service\":\"service_undefined\",\"cold_start\":true,\"function_name\":\"dev-just-my-links-index-document\",\"function_memory_size\":\"1024\",\"function_arn\":\"arn:aws:lambda:us-east-1:145216492484:function:dev-just-my-links-index-document\",\"function_request_id\":\"23a4dd7f-3976-4cac-b719-6ed8ad5f4a5e\",\"correlation_id\":\"07aaf792-ec78-4a2d-a692-bdb20699079b\",\"xray_trace_id\":\"1-683f5e5d-723a91a22a0885745a79d0c2\"}\r\n",
      "\u001b[32m2025-06-03T20:43:12.400000+00:00\u001b[0m \u001b[36m2025/06/03/[$LATEST]762fca1dbb24466292f08e31583a2784\u001b[0m {\"_aws\":{\"Timestamp\":1748983392400,\"CloudWatchMetrics\":[{\"Namespace\":\"just-my-links\",\"Dimensions\":[[]],\"Metrics\":[{\"Name\":\"UnauthorizedRequests\",\"Unit\":\"Count\"}]}]},\"UnauthorizedRequests\":[1.0]}\r\n",
      "\u001b[32m2025-06-03T20:43:12.402000+00:00\u001b[0m \u001b[36m2025/06/03/[$LATEST]762fca1dbb24466292f08e31583a2784\u001b[0m END RequestId: 23a4dd7f-3976-4cac-b719-6ed8ad5f4a5e\r\n",
      "\u001b[32m2025-06-03T20:43:12.402000+00:00\u001b[0m \u001b[36m2025/06/03/[$LATEST]762fca1dbb24466292f08e31583a2784\u001b[0m REPORT RequestId: 23a4dd7f-3976-4cac-b719-6ed8ad5f4a5e\tDuration: 4.10 ms\tBilled Duration: 1665 ms\tMemory Size: 1024 MB\tMax Memory Used: 90 MB\tInit Duration: 1659.92 ms\r\n"
     ]
    },
    {
     "name": "stdout",
     "output_type": "stream",
     "text": [
      "\u001b[0m"
     ]
    }
   ],
   "source": [
    "!aws logs tail /aws/lambda/dev-just-my-links-index-document"
   ]
  },
  {
   "cell_type": "markdown",
   "id": "7ba13702-7698-4204-9713-449a9ebe9cdd",
   "metadata": {
    "collapsed": false
   },
   "source": [
    "Where did that `Unauthorized` come from? Why from our authentication of course!\n",
    "\n",
    "It is important at this point to change our secret"
   ]
  },
  {
   "cell_type": "code",
   "execution_count": null,
   "id": "0a028aed-82e4-47aa-b9fe-9cc6521f7bd9",
   "metadata": {
    "collapsed": false
   },
   "outputs": [],
   "source": [
    "from uuid import uuid4\n",
    "auth_token=str(uuid4())\n",
    "!aws secretsmanager update-secret --secret-id arn:aws:secretsmanager:us-east-1:145216492484:secret:dev-just-my-links-bearer-token-c10ova --secret-string \"$auth_token\""
   ]
  },
  {
   "cell_type": "code",
   "execution_count": 2,
   "id": "db8869b1-f9b7-48ba-b18a-4f7cddd7e8e8",
   "metadata": {
    "collapsed": false
   },
   "outputs": [
    {
     "ename": "NameError",
     "evalue": "name 'auth_token' is not defined",
     "output_type": "error",
     "traceback": [
      "\u001b[31m---------------------------------------------------------------------------\u001b[39m",
      "\u001b[31mNameError\u001b[39m                                 Traceback (most recent call last)",
      "\u001b[36mCell\u001b[39m\u001b[36m \u001b[39m\u001b[32mIn[2]\u001b[39m\u001b[32m, line 4\u001b[39m\n\u001b[32m      1\u001b[39m \u001b[38;5;28;01mimport\u001b[39;00m\u001b[38;5;250m \u001b[39m\u001b[34;01mrequests\u001b[39;00m\n\u001b[32m      2\u001b[39m response = requests.post(\n\u001b[32m      3\u001b[39m     \u001b[33m\"\u001b[39m\u001b[33mhttps://4jn6wkqrbi.execute-api.us-east-1.amazonaws.com/dev/index-document\u001b[39m\u001b[33m\"\u001b[39m,\n\u001b[32m----> \u001b[39m\u001b[32m4\u001b[39m     headers={\u001b[33m\"\u001b[39m\u001b[33mAuthorization\u001b[39m\u001b[33m\"\u001b[39m: \u001b[33mf\u001b[39m\u001b[33m\"\u001b[39m\u001b[33mBearer \u001b[39m\u001b[38;5;132;01m{\u001b[39;00m\u001b[43mauth_token\u001b[49m\u001b[38;5;132;01m}\u001b[39;00m\u001b[33m\"\u001b[39m},\n\u001b[32m      5\u001b[39m     json={\u001b[33m\"\u001b[39m\u001b[33murl\u001b[39m\u001b[33m\"\u001b[39m: \u001b[33m\"\u001b[39m\u001b[33mhttps://example.com\u001b[39m\u001b[33m\"\u001b[39m, \u001b[33m\"\u001b[39m\u001b[33mtitle\u001b[39m\u001b[33m\"\u001b[39m: \u001b[33m\"\u001b[39m\u001b[33mTest Document\u001b[39m\u001b[33m\"\u001b[39m}\n\u001b[32m      6\u001b[39m )\n\u001b[32m      8\u001b[39m response.status_code, response.text\n",
      "\u001b[31mNameError\u001b[39m: name 'auth_token' is not defined"
     ]
    }
   ],
   "source": [
    "response = requests.post(\n",
    "    \"https://4jn6wkqrbi.execute-api.us-east-1.amazonaws.com/dev/index-document\",\n",
    "    headers={\"Authorization\": f\"Bearer {auth_token}\"},\n",
    "    json={\"url\": \"https://example.com\", \"title\": \"Test Document\"}\n",
    ")\n",
    "\n",
    "response.status_code, response.text"
   ]
  },
  {
   "cell_type": "markdown",
   "id": "f7bd9aea-d0b3-40e0-bfb0-4c452a81d097",
   "metadata": {
    "collapsed": false
   },
   "source": [
    "Deploy changes to the lambda image with index-service deployment script"
   ]
  },
  {
   "cell_type": "code",
   "execution_count": null,
   "id": "3126b0d1-e7e9-4292-a5af-1f57a23f0f51",
   "metadata": {
    "collapsed": false
   },
   "outputs": [],
   "source": [
    "! scripts/deploy-indexing-service.py dev"
   ]
  },
  {
   "cell_type": "markdown",
   "id": "659ba194-bf34-442b-8387-05249a0aa8c0",
   "metadata": {
    "collapsed": false
   },
   "source": [
    "Turn on debug logging with"
   ]
  },
  {
   "cell_type": "code",
   "execution_count": null,
   "id": "84d323f0-fcd5-4085-a711-d0d4d17b61da",
   "metadata": {
    "collapsed": false
   },
   "outputs": [],
   "source": [
    "!aws lambda update-function-configuration --function-name dev-just-my-links-index-document --environment Variables='{LOG_LEVEL=DEBUG}'"
   ]
  },
  {
   "cell_type": "code",
   "execution_count": 101,
   "id": "ef2f173a-32a6-495e-aecc-d98d1363b1d8",
   "metadata": {
    "collapsed": false
   },
   "outputs": [
    {
     "name": "stdout",
     "output_type": "stream",
     "text": [
      "\u001b[32m2025-06-04T13:25:46.082000+00:00\u001b[0m \u001b[36m2025/06/04/[$LATEST]3bac5677713249e0b2ddd42270aed6c5\u001b[0m START RequestId: 49f7aa81-ebb5-4b1e-8b47-6be6fb6545fa Version: $LATEST\r\n",
      "\u001b[32m2025-06-04T13:25:46.083000+00:00\u001b[0m \u001b[36m2025/06/04/[$LATEST]3bac5677713249e0b2ddd42270aed6c5\u001b[0m {\"level\":\"INFO\",\"location\":\"lambda_handler:111\",\"message\":\"Lambda handler invoked\",\"timestamp\":\"2025-06-04 13:25:46,083+0000\",\"service\":\"service_undefined\",\"cold_start\":true,\"function_name\":\"dev-just-my-links-index-document\",\"function_memory_size\":\"1024\",\"function_arn\":\"arn:aws:lambda:us-east-1:145216492484:function:dev-just-my-links-index-document\",\"function_request_id\":\"49f7aa81-ebb5-4b1e-8b47-6be6fb6545fa\",\"correlation_id\":\"e85c6b57-c00f-4371-b389-c96330ee3fa2\",\"event_type\":\"POST\",\"xray_trace_id\":\"1-68404958-093826d14f4993b744b5dd65\"}\r\n",
      "\u001b[32m2025-06-04T13:25:46.084000+00:00\u001b[0m \u001b[36m2025/06/04/[$LATEST]3bac5677713249e0b2ddd42270aed6c5\u001b[0m {\"level\":\"DEBUG\",\"location\":\"authentication_middleware:53\",\"message\":\"Missing or invalid Authorization header format. {\\\"accept\\\": \\\"*/*\\\", \\\"accept-encoding\\\": \\\"gzip, deflate\\\", \\\"content-type\\\": \\\"application/json\\\", \\\"host\\\": \\\"4jn6wkqrbi.execute-api.us-east-1.amazonaws.com\\\", \\\"user-agent\\\": \\\"python-requests/2.32.3\\\", \\\"x-amzn-trace-id\\\": \\\"Root=1-68404958-093826d14f4993b744b5dd65\\\", \\\"x-forwarded-for\\\": \\\"107.220.160.178\\\", \\\"x-forwarded-port\\\": \\\"443\\\", \\\"x-forwarded-proto\\\": \\\"https\\\"}\",\"timestamp\":\"2025-06-04 13:25:46,084+0000\",\"service\":\"service_undefined\",\"cold_start\":true,\"function_name\":\"dev-just-my-links-index-document\",\"function_memory_size\":\"1024\",\"function_arn\":\"arn:aws:lambda:us-east-1:145216492484:function:dev-just-my-links-index-document\",\"function_request_id\":\"49f7aa81-ebb5-4b1e-8b47-6be6fb6545fa\",\"correlation_id\":\"e85c6b57-c00f-4371-b389-c96330ee3fa2\",\"xray_trace_id\":\"1-68404958-093826d14f4993b744b5dd65\"}\r\n",
      "\u001b[32m2025-06-04T13:25:46.084000+00:00\u001b[0m \u001b[36m2025/06/04/[$LATEST]3bac5677713249e0b2ddd42270aed6c5\u001b[0m {\"_aws\":{\"Timestamp\":1749043546084,\"CloudWatchMetrics\":[{\"Namespace\":\"just-my-links\",\"Dimensions\":[[]],\"Metrics\":[{\"Name\":\"UnauthorizedRequests\",\"Unit\":\"Count\"}]}]},\"UnauthorizedRequests\":[1.0]}\r\n",
      "\u001b[32m2025-06-04T13:25:46.087000+00:00\u001b[0m \u001b[36m2025/06/04/[$LATEST]3bac5677713249e0b2ddd42270aed6c5\u001b[0m END RequestId: 49f7aa81-ebb5-4b1e-8b47-6be6fb6545fa\r\n",
      "\u001b[32m2025-06-04T13:25:46.087000+00:00\u001b[0m \u001b[36m2025/06/04/[$LATEST]3bac5677713249e0b2ddd42270aed6c5\u001b[0m REPORT RequestId: 49f7aa81-ebb5-4b1e-8b47-6be6fb6545fa\tDuration: 5.30 ms\tBilled Duration: 1009 ms\tMemory Size: 1024 MB\tMax Memory Used: 90 MB\tInit Duration: 1003.63 ms\r\n",
      "\u001b[32m2025-06-04T13:26:42.194000+00:00\u001b[0m \u001b[36m2025/06/04/[$LATEST]3bac5677713249e0b2ddd42270aed6c5\u001b[0m START RequestId: 85f7ebac-bd73-4ef0-b4c9-b2e8633bbc45 Version: $LATEST\r\n",
      "\u001b[32m2025-06-04T13:26:42.198000+00:00\u001b[0m \u001b[36m2025/06/04/[$LATEST]3bac5677713249e0b2ddd42270aed6c5\u001b[0m {\"level\":\"INFO\",\"location\":\"lambda_handler:111\",\"message\":\"Lambda handler invoked\",\"timestamp\":\"2025-06-04 13:26:42,195+0000\",\"service\":\"service_undefined\",\"cold_start\":false,\"function_name\":\"dev-just-my-links-index-document\",\"function_memory_size\":\"1024\",\"function_arn\":\"arn:aws:lambda:us-east-1:145216492484:function:dev-just-my-links-index-document\",\"function_request_id\":\"85f7ebac-bd73-4ef0-b4c9-b2e8633bbc45\",\"correlation_id\":\"2fc5e29f-7168-4bd3-b11b-61428cdfefb5\",\"event_type\":\"POST\",\"xray_trace_id\":\"1-68404992-679d45975f41e4943d6f7e32\"}\r\n"
     ]
    },
    {
     "name": "stdout",
     "output_type": "stream",
     "text": [
      "\u001b[0m"
     ]
    }
   ],
   "source": [
    "!aws logs tail /aws/lambda/dev-just-my-links-index-document"
   ]
  },
  {
   "cell_type": "code",
   "execution_count": 96,
   "id": "d65b497c-fa67-4799-af37-71cdba4a7b46",
   "metadata": {
    "collapsed": false
   },
   "outputs": [
    {
     "name": "stdout",
     "output_type": "stream",
     "text": [
      " {}\r\n"
     ]
    }
   ],
   "source": []
  }
 ],
 "metadata": {
  "kernelspec": {
   "argv": [
    "python",
    "-m",
    "ipykernel_launcher",
    "-f",
    "{connection_file}"
   ],
   "display_name": "Python 3 (ipykernel)",
   "env": null,
   "interrupt_mode": "signal",
   "language": "python",
   "metadata": {
    "debugger": true
   },
   "name": "python3"
  },
  "language_info": {
   "codemirror_mode": {
    "name": "ipython",
    "version": 3
   },
   "file_extension": ".py",
   "mimetype": "text/x-python",
   "name": "python",
   "nbconvert_exporter": "python",
   "pygments_lexer": "ipython3",
   "version": "3.8.10"
  },
  "name": "aws-configuration.ipynb"
 },
 "nbformat": 4,
 "nbformat_minor": 4
}
