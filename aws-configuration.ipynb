{
 "cells": [
  {
   "cell_type": "markdown",
   "metadata": {
    "collapsed": false,
    "jupyter": {
     "outputs_hidden": false
    }
   },
   "source": [
    "# AWS SSO Configuration\n",
    "\n",
    "This notebook guides you through setting up AWS SSO for easier admin CLI access. When done, you will be able to log into your AWS account from the cli with something like this:\n",
    "\n",
    "```shell\n",
    "export AWS_PROFILE=just-my-links\n",
    "aws sso login\n",
    "```\n",
    "\n",
    "While not necessary to do it this way, it makes it easier to use AWS from your CLI. You do need CLI access to AWS if you are going to be running Terraform locally (which is very helpful for development).\n",
    "\n",
    "Note that this is *only a good idea* for the admin account you use to inspect and interact with AWS in the course of ops duties. You do not want to (and in fact can't) use this process for CI/CD.\n",
    "\n",
    "To do this you first need to\n",
    "\n",
    "- Have or create an AWS account (you will need to supply a payment method though the expectation is that usage will be low enough to not get billed.)\n",
    "- Log into your AWS account via the UI.\n",
    "  - Ideally as part of account creation you created a superuser non-root account that you are using. Avoid using the root user whenever possible!\n",
    "- Navigate to *IAM Identity Center* and click *Enable*"
   ]
  },
  {
   "cell_type": "markdown",
   "metadata": {
    "collapsed": false,
    "jupyter": {
     "outputs_hidden": false
    }
   },
   "source": [
    "Now we want to set up an sso user.\n",
    "\n",
    "The following will all be in CloudShell console in the browser. Code is denoted in markdown specifically for that reason - it is not meant to be run locally on your machine since you have not set up your cli to connect to aws yet. Instead, copy and paste it into Cloudshell within the AWS console in your browser.\n",
    "\n",
    "When Identity Center is enabled you should be able to run this to see an instance of an organization:\n",
    "\n",
    "```shell\n",
    "aws sso-admin list-instances\n",
    "```\n",
    "\n",
    "The following assumes that you have just one instance above. If not you will want to identify what the correct one is (probably the one with \"sso\" in the arn) and use its arn instead of the dynamically queried one below\n",
    "\n",
    "Lets record our instance arn, account id, and identity store id into variables within the current CLI session just so we have rapid access to them\n",
    "```shell\n",
    "ACCOUNT_ID=$(aws sts get-caller-identity --query \"Account\" --output text)\n",
    "INSTANCE_ARN=$(aws sso-admin list-instances --query 'Instances[0].InstanceArn' --output text)\n",
    "IDENTITY_STORE_ID=$(aws sso-admin list-instances --query 'Instances[0].IdentityStoreId' --output text)\n",
    "```\n",
    "\n",
    "Note the `IDENTITY_STORE_ID` above. Your sso instance has a url that you will visit to log in, you will need to note it. It will be something like `https://d-00000000bba.awsapps.com/start/#` you can get it with\n",
    "```shell\n",
    "echo \"https://$IDENTITY_STORE_ID.awsapps.com/start/#\"\n",
    "```\n",
    "\n",
    "You'll need this for sso configuration further down\n",
    "\n",
    "Then create an admin permission set:\n",
    "```shell\n",
    "aws sso-admin create-permission-set \\\n",
    "  --instance-arn \"$INSTANCE_ARN\" \\\n",
    "  --name \"AdministratorAccess\" \\\n",
    "  --description \"Provides full access to AWS services and resources\" \\\n",
    "  --session-duration \"PT8H\"\n",
    "```\n",
    "Note the permission set arn noted above you will use it. Assuming it is the only one (it should be), you can set it manually the variable below or just run this\n",
    "\n",
    "```shell\n",
    "PERMISSION_SET_ARN=$(aws sso-admin list-permission-sets-provisioned-to-account \\\n",
    "                        --instance-arn \"$INSTANCE_ARN\" \\\n",
    "                        --account-id \"$ACCOUNT_ID\" \\\n",
    "                        --output text \\\n",
    "                        --query \"PermissionSets[0]\")\n",
    "```\n",
    "\n",
    "We then want to attach the admin access policy to this permission set.\n",
    "\n",
    "Use this to determine if the first found permission set is indeed the admin permission set - it will say \"AdministratorAccess\"\n",
    "\n",
    "```shell\n",
    "aws sso-admin describe-permission-set \\\n",
    "  --instance-arn \"$INSTANCE_ARN\" \\\n",
    "  --permission-set-arn \"$PERMISSION_SET_ARN\"\n",
    "```\n",
    "\n",
    "Then if so, attach the admin policy:\n",
    "\n",
    "```shell\n",
    "aws sso-admin attach-managed-policy-to-permission-set \\\n",
    "  --instance-arn \"$INSTANCE_ARN\"\n",
    "  --permission-set-arn \"$PERMISSION_SET_ARN\" \\\n",
    "  --managed-policy-arn \"arn:aws:iam::aws:policy/AdministratorAccess\"\n",
    "```\n",
    "\n",
    "Create an sso user for yourself. **Use your own values for email and name!** I don't want to be getting your reset links.\n",
    "```shell\n",
    "MY_EMAIL=gmauer@gmail.com\n",
    "MY_GIVEN_NAME=George\n",
    "MY_FAMILY_NAME=Mauer\n",
    "aws identitystore create-user \\\n",
    "  --identity-store-id \"$IDENTITY_STORE_ID\" \\\n",
    "  --user-name \"$MY_EMAIL\" \\\n",
    "  --name \"GivenName=$MY_GIVEN_NAME,FamilyName=$MY_FAMILY_NAME\" \\\n",
    "  --emails \"Value=$MY_EMAIL,Type=Primary\" \\\n",
    "  --display-name \"$MY_GIVEN_NAME $MY_FAMILY_NAME\"\n",
    "```\n",
    "\n",
    "Now lets assign admin access to this user. Note that the below looks up the id of the user created above by username. If you have it you can just sub it in\n",
    "\n",
    "```shell\n",
    "aws sso-admin create-account-assignment \\\n",
    "  --instance-arn \"$INSTANCE_ARN\" \\\n",
    "  --target-id \"$ACCOUNT_ID\" \\\n",
    "  --target-type AWS_ACCOUNT \\\n",
    "  --permission-set-arn \"$PERMISSION_SET_ARN\" \\\n",
    "  --principal-type USER \\\n",
    "  --principal-id $(aws identitystore list-users --identity-store-id $\"$IDENTITY_STORE_ID\" --filters \"AttributePath=UserName,AttributeValue=$MY_EMAIL\" --query 'Users[0].UserId' --output text)\n",
    "```\n",
    "\n",
    "Finally, you will need to set up a password for this user. *This is not doable through the CLI*.\n",
    "- Check your email, you will likely have to click a link to confirm it.\n",
    "- Go to the IAM Identity Center\n",
    "- Navigate to Users\n",
    "- Select your user\n",
    "- Click the \"Reset Password\" button\n",
    "\n",
    "You may select the appropriate thing at this point but a straightforward recommendation is to select \"generate a one-time password\" and copy it to be used when logging in"
   ]
  },
  {
   "cell_type": "markdown",
   "metadata": {
    "collapsed": false,
    "jupyter": {
     "outputs_hidden": false
    }
   },
   "source": [
    "For this next part you'll need the sso login url we calculated above from the `IDENTITY_STORE_ID` and your new user email/password.\n",
    "\n",
    "*The following is in the local CLI* and you should have to do it only once:"
   ]
  },
  {
   "cell_type": "code",
   "execution_count": null,
   "metadata": {
    "collapsed": false,
    "jupyter": {
     "outputs_hidden": false
    }
   },
   "outputs": [],
   "source": [
    "!aws configure sso"
   ]
  },
  {
   "cell_type": "markdown",
   "metadata": {
    "collapsed": false,
    "jupyter": {
     "outputs_hidden": false
    }
   },
   "source": [
    "During login, reset your password [using your password manager](https://1password.com/) and ideally set up MFA. Click through menues to eventually get the AWS apps account screen. This is very useful for managing multiple aws accounts. Here you can log into a specific account as a user or view sso keys, however we're just going to set up a profile locally so you can click off of this screen.\n",
    "\n",
    "For the following you'll need the `ACCOUNT_ID` from above and the SSO login url you just use. Create an entry in [~/.aws/config](~/.aws/config) that looks like this:\n",
    "\n",
    "```toml\n",
    "[profile just-my-links]\n",
    "sso_start_url = FILL_IN_YOUR_SSO_LINK\n",
    "sso_account_id = FILL_IN_YOUR_ACCOUNT_ID\n",
    "sso_region = us-east-1\n",
    "sso_role_name = AdministratorAccess\n",
    "sso_session_name = default\n",
    "output = json\n",
    "region = us-east-1\n",
    "```"
   ]
  },
  {
   "cell_type": "markdown",
   "metadata": {
    "collapsed": false,
    "jupyter": {
     "outputs_hidden": false
    }
   },
   "source": [
    "You may then login with SSO by first setting your aws profile to use the `just-my-links` profile"
   ]
  },
  {
   "cell_type": "code",
   "execution_count": 1,
   "metadata": {
    "collapsed": false,
    "jupyter": {
     "outputs_hidden": false
    },
    "scrolled": true
   },
   "outputs": [
    {
     "name": "stdout",
     "output_type": "stream",
     "text": [
      "env: AWS_PROFILE=just-my-links\n"
     ]
    }
   ],
   "source": [
    "%env AWS_PROFILE=just-my-links"
   ]
  },
  {
   "cell_type": "markdown",
   "metadata": {
    "collapsed": false,
    "jupyter": {
     "outputs_hidden": false
    }
   },
   "source": [
    "And finally you can log in"
   ]
  },
  {
   "cell_type": "code",
   "execution_count": null,
   "metadata": {
    "collapsed": false,
    "jupyter": {
     "outputs_hidden": false
    }
   },
   "outputs": [],
   "source": [
    "!aws sso login"
   ]
  },
  {
   "cell_type": "markdown",
   "metadata": {
    "collapsed": false,
    "jupyter": {
     "outputs_hidden": false
    }
   },
   "source": [
    "A browser window will open and you will be prompted to click through a series of screens (remember to use your password manager!). You may also visit the above link manually and click through.\n",
    "\n",
    "You will now be connected to your aws account. Note that the way `aws sso` works, your login is per-profile, not per-cli-session. You don't need to manage aws keys environment variables or anything like that. So long as the profile used is the above, you will be logged in as long as your sso session lasts. Running the following should show you your logged in user identity."
   ]
  },
  {
   "cell_type": "code",
   "execution_count": 3,
   "metadata": {
    "collapsed": false,
    "jupyter": {
     "outputs_hidden": false
    }
   },
   "outputs": [
    {
     "name": "stdout",
     "output_type": "stream",
     "text": [
      "{\r\n",
      "    \"UserId\": \"AROASDT4T2PCFCLRY32IU:gmauer@gmail.com\",\r\n",
      "    \"Account\": \"145216492484\",\r\n",
      "    \"Arn\": \"arn:aws:sts::145216492484:assumed-role/AWSReservedSSO_AdministratorAccess_7d6c5139d9951c91/gmauer@gmail.com\"\r\n",
      "}\r\n"
     ]
    }
   ],
   "source": [
    "!aws sts get-caller-identity"
   ]
  },
  {
   "cell_type": "markdown",
   "metadata": {
    "collapsed": false,
    "jupyter": {
     "outputs_hidden": false
    }
   },
   "source": [
    "This session will last as we configured in the permission set (8h above) and as long as your `aws` environment knows which profile to use (typically by ensuring the `AWS_PROFILE` environment variable is set) you will be logged in.\n",
    "\n",
    "Be careful with this, your local cli now has admin access!"
   ]
  },
  {
   "cell_type": "markdown",
   "metadata": {
    "collapsed": false,
    "jupyter": {
     "outputs_hidden": false
    }
   },
   "source": [
    "# Working with deployment\n",
    "\n",
    "## Initial Infrastructure deployment\n",
    "\n",
    "We deploy cloudformation in two runs. The first sets up our \"initial\" things that must exist and the second our lambdas that are built on top of it. We have to pass `IsFirstRun=true` like so\n",
    "\n",
    "Note that the following will deploy a stack with the \"dev\" suffix implying its a dev environment"
   ]
  },
  {
   "cell_type": "code",
   "execution_count": null,
   "metadata": {
    "collapsed": false,
    "jupyter": {
     "outputs_hidden": false
    }
   },
   "outputs": [],
   "source": [
    "!cd ./cloudformation && ./scripts/deploy.sh dev IsFirstRun=true"
   ]
  },
  {
   "cell_type": "markdown",
   "metadata": {
    "collapsed": false,
    "jupyter": {
     "outputs_hidden": false
    }
   },
   "source": [
    "You can query potential errors of your stack with the following, again, note that `-dev` suffix which is due to the `dev` environment being used above"
   ]
  },
  {
   "cell_type": "code",
   "execution_count": null,
   "metadata": {
    "collapsed": false,
    "jupyter": {
     "outputs_hidden": false
    }
   },
   "outputs": [],
   "source": [
    "!aws cloudformation describe-stack-events --stack-name just-my-links-dev --query 'StackEvents[?ResourceStatus==`CREATE_FAILED` || ResourceStatus==`ROLLBACK_IN_PROGRESS` || ResourceStatus==`ROLLBACK_COMPLETE`]' | cat"
   ]
  },
  {
   "cell_type": "markdown",
   "metadata": {
    "collapsed": false,
    "jupyter": {
     "outputs_hidden": false
    }
   },
   "source": [
    "On failure, before trying again, you might need to delete your stack"
   ]
  },
  {
   "cell_type": "code",
   "execution_count": 79,
   "metadata": {
    "collapsed": false,
    "jupyter": {
     "outputs_hidden": false
    }
   },
   "outputs": [],
   "source": [
    "!aws cloudformation delete-stack --stack-name just-my-links-dev"
   ]
  },
  {
   "cell_type": "markdown",
   "metadata": {
    "collapsed": false,
    "jupyter": {
     "outputs_hidden": false
    }
   },
   "source": [
    "You can also check outputs of the cloudformation stack like this"
   ]
  },
  {
   "cell_type": "code",
   "execution_count": 8,
   "metadata": {
    "collapsed": false,
    "jupyter": {
     "outputs_hidden": false
    }
   },
   "outputs": [
    {
     "name": "stderr",
     "output_type": "stream",
     "text": [
      "910.20s - pydevd: Sending message related to process being replaced timed-out after 5 seconds\n"
     ]
    },
    {
     "name": "stdout",
     "output_type": "stream",
     "text": [
      "[\n",
      "    {\n",
      "        \"OutputKey\": \"EventBusName\",\n",
      "        \"OutputValue\": \"just-my-links--events--dev\",\n",
      "        \"Description\": \"EventBridge event bus name\",\n",
      "        \"ExportName\": \"just-my-links--event-bus-name--dev\"\n",
      "    },\n",
      "    {\n",
      "        \"OutputKey\": \"AuthTokenSecretName\",\n",
      "        \"OutputValue\": \"arn:aws:secretsmanager:us-east-1:145216492484:secret:just-my-links--auth-token--dev-u4xO5r\",\n",
      "        \"Description\": \"Name of the auth token secret in Secrets Manager\",\n",
      "        \"ExportName\": \"just-my-links--auth-token-secret-name--dev\"\n",
      "    },\n",
      "    {\n",
      "        \"OutputKey\": \"ApplicationBucketName\",\n",
      "        \"OutputValue\": \"just-my-links--application-bucket--dev\",\n",
      "        \"Description\": \"S3 Bucket name for application data (ChromaDB, stored documents, logs)\",\n",
      "        \"ExportName\": \"just-my-links--application-bucket--dev\"\n",
      "    },\n",
      "    {\n",
      "        \"OutputKey\": \"IndexDocumentsEcrRepositoryUri\",\n",
      "        \"OutputValue\": \"145216492484.dkr.ecr.us-east-1.amazonaws.com/just-my-links-ecr-index-documents-dev\",\n",
      "        \"Description\": \"Index Documents ECR Repository URI\"\n",
      "    },\n",
      "    {\n",
      "        \"OutputKey\": \"StoreDocumentEcrRepositoryUri\",\n",
      "        \"OutputValue\": \"145216492484.dkr.ecr.us-east-1.amazonaws.com/just-my-links-ecr-store-document-dev\",\n",
      "        \"Description\": \"Store Document ECR Repository URI\"\n",
      "    }\n",
      "]\n"
     ]
    }
   ],
   "source": [
    "!aws cloudformation describe-stacks --stack-name just-my-links-dev --query 'Stacks[0].Outputs'"
   ]
  },
  {
   "cell_type": "markdown",
   "metadata": {
    "collapsed": false,
    "jupyter": {
     "outputs_hidden": false
    }
   },
   "source": [
    "At this point we need to build and upload images for both services so our lambdas can reference them when deployed."
   ]
  },
  {
   "cell_type": "code",
   "execution_count": 3,
   "metadata": {
    "collapsed": false,
    "jupyter": {
     "outputs_hidden": false
    }
   },
   "outputs": [
    {
     "name": "stdout",
     "output_type": "stream",
     "text": [
      "Building and deploying Lambda container for environment: dev\n",
      "Authenticating to ECR...\n",
      "Successfully authenticated to ECR\n",
      "Building Docker image...\n",
      "Running: docker build -t index-documents-service /home/gmauer/code/just-my-links/index-documents-service\n",
      "Tagging image for ECR...\n",
      "Running: docker tag index-documents-service:latest 145216492484.dkr.ecr.us-east-1.amazonaws.com/just-my-links-ecr-index-documents-dev:latest\n",
      "Pushing image to ECR...\n",
      "Running: docker push --force-compression 145216492484.dkr.ecr.us-east-1.amazonaws.com/just-my-links-ecr-index-documents-dev:latest\n",
      "Image pushed to ECR: 145216492484.dkr.ecr.us-east-1.amazonaws.com/just-my-links-ecr-index-documents-dev:latest\n",
      "Checking if Lambda function exists...\n",
      "Lambda function just-my-links-index-documents-dev does not exist. Skipping function update.\n",
      "Deploy the CloudFormation stack to create the Lambda function.\n",
      "Deployment complete!\n",
      "Building and deploying Lambda container for environment: dev\n",
      "Authenticating to ECR...\n",
      "Successfully authenticated to ECR\n",
      "Building Docker image...\n",
      "Running: docker build -t document-storage-service /home/gmauer/code/just-my-links/document-storage-service\n",
      "Tagging image for ECR...\n",
      "Running: docker tag document-storage-service:latest 145216492484.dkr.ecr.us-east-1.amazonaws.com/just-my-links-ecr-store-document-dev:latest\n",
      "Pushing image to ECR...\n",
      "Running: docker push --force-compression 145216492484.dkr.ecr.us-east-1.amazonaws.com/just-my-links-ecr-store-document-dev:latest\n",
      "Image pushed to ECR: 145216492484.dkr.ecr.us-east-1.amazonaws.com/just-my-links-ecr-store-document-dev:latest\n",
      "Checking if Lambda function exists...\n",
      "Lambda function just-my-links-store-document-dev does not exist. Skipping function update.\n",
      "Deploy the CloudFormation stack to create the Lambda function.\n",
      "Deployment complete!\n"
     ]
    }
   ],
   "source": [
    "!scripts/deploy-indexing-service.py\n",
    "!scripts/deploy-document-storage-service.py"
   ]
  },
  {
   "cell_type": "markdown",
   "metadata": {
    "collapsed": false,
    "jupyter": {
     "outputs_hidden": false
    }
   },
   "source": [
    "View what's been published"
   ]
  },
  {
   "cell_type": "code",
   "execution_count": 4,
   "metadata": {
    "collapsed": false,
    "jupyter": {
     "outputs_hidden": false
    }
   },
   "outputs": [
    {
     "name": "stdout",
     "output_type": "stream",
     "text": [
      "{\n",
      "    \"imageIds\": [\n",
      "        {\n",
      "            \"imageDigest\": \"sha256:e138ea0de5341e7d49ade82b5beaad78954ea4d3fa66bb06b129499fad376b2c\",\n",
      "            \"imageTag\": \"latest\"\n",
      "        }\n",
      "    ]\n",
      "}\n"
     ]
    }
   ],
   "source": [
    "!aws ecr list-images --repository-name just-my-links-ecr-index-documents-dev"
   ]
  },
  {
   "cell_type": "markdown",
   "metadata": {
    "collapsed": false,
    "jupyter": {
     "outputs_hidden": false
    }
   },
   "source": [
    "And now we can do the rest of the deploy"
   ]
  },
  {
   "cell_type": "code",
   "execution_count": 5,
   "metadata": {
    "collapsed": false,
    "jupyter": {
     "outputs_hidden": false
    }
   },
   "outputs": [
    {
     "name": "stdout",
     "output_type": "stream",
     "text": [
      "Deploying Just My Links infrastructure for environment: dev\n",
      "\n",
      "Waiting for changeset to be created..\n",
      "Waiting for stack create/update to complete\n",
      "Successfully created/updated stack - just-my-links-dev\n",
      "Deployment complete!\n",
      "[\n",
      "    {\n",
      "        \"OutputKey\": \"EventBusName\",\n",
      "        \"OutputValue\": \"just-my-links--events--dev\",\n",
      "        \"Description\": \"EventBridge event bus name\",\n",
      "        \"ExportName\": \"just-my-links--event-bus-name--dev\"\n",
      "    },\n",
      "    {\n",
      "        \"OutputKey\": \"StoreDocumentFunctionArn\",\n",
      "        \"OutputValue\": \"arn:aws:lambda:us-east-1:145216492484:function:just-my-links--store-document--dev\",\n",
      "        \"Description\": \"Store Document Lambda function ARN\"\n",
      "    },\n",
      "    {\n",
      "        \"OutputKey\": \"AuthTokenSecretName\",\n",
      "        \"OutputValue\": \"arn:aws:secretsmanager:us-east-1:145216492484:secret:just-my-links--auth-token--dev-u4xO5r\",\n",
      "        \"Description\": \"Name of the auth token secret in Secrets Manager\",\n",
      "        \"ExportName\": \"just-my-links--auth-token-secret-name--dev\"\n",
      "    },\n",
      "    {\n",
      "        \"OutputKey\": \"ApplicationBucketName\",\n",
      "        \"OutputValue\": \"just-my-links--application-bucket--dev\",\n",
      "        \"Description\": \"S3 Bucket name for application data (ChromaDB, stored documents, logs)\",\n",
      "        \"ExportName\": \"just-my-links--application-bucket--dev\"\n",
      "    },\n",
      "    {\n",
      "        \"OutputKey\": \"IndexDocumentsFunctionArn\",\n",
      "        \"OutputValue\": \"arn:aws:lambda:us-east-1:145216492484:function:just-my-links--index-documents--dev\",\n",
      "        \"Description\": \"Index Documents Lambda function ARN\"\n",
      "    },\n",
      "    {\n",
      "        \"OutputKey\": \"IndexDocumentsEcrRepositoryUri\",\n",
      "        \"OutputValue\": \"145216492484.dkr.ecr.us-east-1.amazonaws.com/just-my-links-ecr-index-documents-dev\",\n",
      "        \"Description\": \"Index Documents ECR Repository URI\"\n",
      "    },\n",
      "    {\n",
      "        \"OutputKey\": \"DocumentStorageHttpApiUrl\",\n",
      "        \"OutputValue\": \"https://r4259u5i5d.execute-api.us-east-1.amazonaws.com/dev\",\n",
      "        \"Description\": \"HTTP API endpoint URL\",\n",
      "        \"ExportName\": \"just-my-links--store-document--dev\"\n",
      "    },\n",
      "    {\n",
      "        \"OutputKey\": \"StoreDocumentEcrRepositoryUri\",\n",
      "        \"OutputValue\": \"145216492484.dkr.ecr.us-east-1.amazonaws.com/just-my-links-ecr-store-document-dev\",\n",
      "        \"Description\": \"Store Document ECR Repository URI\"\n",
      "    }\n",
      "]\n"
     ]
    }
   ],
   "source": [
    "!cd ./cloudformation && ./scripts/deploy.sh dev IsFirstRun=false"
   ]
  },
  {
   "cell_type": "markdown",
   "metadata": {
    "collapsed": false,
    "jupyter": {
     "outputs_hidden": false
    }
   },
   "source": [
    "Note that because parameter values are defaulted to the previous cloudformation run, the IsFirstRun parameter *does* explicitly need to be set to `false` when this is invoked for the first time. Afterwards, the parameter can be omitted. When this deploy runs, it will give us an api gateway url or you can get one from above.\n",
    "\n",
    "In fact, lets get them and store these values as variables in this workbook\n",
    "\n",
    "TODO - Add in dns configuration here"
   ]
  },
  {
   "cell_type": "code",
   "execution_count": 7,
   "metadata": {
    "collapsed": false,
    "jupyter": {
     "outputs_hidden": false
    }
   },
   "outputs": [],
   "source": [
    "import json\n",
    "cloudformation_outputs_res = !aws cloudformation describe-stacks --stack-name just-my-links-dev --query 'Stacks[0].Outputs'\n",
    "cloudformation_outputs = {x['OutputKey']: x['OutputValue'] for x in json.loads(''.join(cloudformation_outputs_res))}\n",
    "application_bucket_name = cloudformation_outputs['ApplicationBucketName']\n",
    "document_store_uri = cloudformation_outputs['DocumentStorageHttpApiUrl']\n",
    "auth_token_secret_arn = cloudformation_outputs['AuthTokenSecretName']"
   ]
  },
  {
   "cell_type": "markdown",
   "metadata": {
    "collapsed": false,
    "jupyter": {
     "outputs_hidden": false
    }
   },
   "source": [
    "It is important at this point to change our secret"
   ]
  },
  {
   "cell_type": "code",
   "execution_count": null,
   "metadata": {
    "collapsed": false,
    "jupyter": {
     "outputs_hidden": false
    },
    "scrolled": true
   },
   "outputs": [],
   "source": [
    "from uuid import uuid4\n",
    "auth_token=str(uuid4())\n",
    "!aws secretsmanager update-secret --secret-id \"$auth_token_secret_arn\" --secret-string \"$auth_token\""
   ]
  }
 ],
 "metadata": {
  "kernelspec": {
   "display_name": "Python 3 (ipykernel)",
   "language": "python",
   "name": "python3"
  },
  "language_info": {
   "codemirror_mode": {
    "name": "ipython",
    "version": 3
   },
   "file_extension": ".py",
   "mimetype": "text/x-python",
   "name": "python",
   "nbconvert_exporter": "python",
   "pygments_lexer": "ipython3",
   "version": "3.13.2"
  },
  "name": "aws-configuration.ipynb"
 },
 "nbformat": 4,
 "nbformat_minor": 4
}
