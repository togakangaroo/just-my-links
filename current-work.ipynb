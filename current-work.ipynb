{
 "cells": [
  {
   "cell_type": "code",
   "execution_count": 1,
   "id": "7e225e20-6570-421b-a6bb-d1138dd0a507",
   "metadata": {
    "collapsed": false,
    "jupyter": {
     "outputs_hidden": false
    }
   },
   "outputs": [
    {
     "name": "stdout",
     "output_type": "stream",
     "text": [
      "env: AWS-PROFILE=just-my-links\n"
     ]
    }
   ],
   "source": [
    "%env AWS-PROFILE=just-my-links\n",
    "\n",
    "import boto3\n",
    "import requests\n",
    "import json\n"
   ]
  },
  {
   "cell_type": "code",
   "execution_count": 3,
   "id": "fd580ac9-2d8a-4eb6-a320-e55d536cf784",
   "metadata": {
    "collapsed": false,
    "jupyter": {
     "outputs_hidden": false
    }
   },
   "outputs": [],
   "source": [
    "cloudformation_outputs_res = !aws cloudformation describe-stacks --stack-name just-my-links-dev --query 'Stacks[0].Outputs'\n",
    "cloudformation_outputs = {x['OutputKey']: x['OutputValue'] for x in json.loads(''.join(cloudformation_outputs_res))}\n",
    "application_bucket_name = cloudformation_outputs['ApplicationBucketName']\n",
    "document_store_uri = cloudformation_outputs['DocumentStorageHttpApiUrl']\n",
    "store_document_arn = cloudformation_outputs['StoreDocumentFunctionArn']\n",
    "index_documents_arn = cloudformation_outputs['IndexDocumentsFunctionArn']\n",
    "auth_token_secret_arn = cloudformation_outputs['AuthTokenSecretName']\n",
    "\n",
    "secrets_client = boto3.client('secretsmanager')\n",
    "auth_token_response = secrets_client.get_secret_value(SecretId=auth_token_secret_arn)\n",
    "auth_token = auth_token_response['SecretString']"
   ]
  },
  {
   "cell_type": "markdown",
   "id": "27c63d15-423e-4527-9ddb-7e25ac0b9a46",
   "metadata": {
    "collapsed": false,
    "jupyter": {
     "outputs_hidden": false
    }
   },
   "source": [
    "See the logs"
   ]
  },
  {
   "cell_type": "code",
   "execution_count": 9,
   "id": "1a1152a7-2c97-4ee1-acd9-0d18bc4d8264",
   "metadata": {
    "collapsed": false,
    "jupyter": {
     "outputs_hidden": false
    }
   },
   "outputs": [
    {
     "name": "stdout",
     "output_type": "stream",
     "text": [
      "Traceback (most recent call last)::00\u001b[0m \u001b[36m2025/06/07/[$LATEST]b638a0c27d3c4397b337403736f5e4c1\u001b[0m [ERROR] Runtime.ImportModuleError: Unable to import module 'app': cannot import name 'parse_options_header' from 'multipart' (/var/lang/lib/python3.13/site-packages/multipart/__init__.py)\n",
      "\u001b[32m2025-06-07T04:49:50.080000+00:00\u001b[0m \u001b[36m2025/06/07/[$LATEST]b638a0c27d3c4397b337403736f5e4c1\u001b[0m INIT_REPORT Init Duration: 551.72 ms\tPhase: init\tStatus: error\tError Type: Runtime.ImportModuleError\n",
      "Traceback (most recent call last)::00\u001b[0m \u001b[36m2025/06/07/[$LATEST]b638a0c27d3c4397b337403736f5e4c1\u001b[0m [ERROR] Runtime.ImportModuleError: Unable to import module 'app': cannot import name 'parse_options_header' from 'multipart' (/var/lang/lib/python3.13/site-packages/multipart/__init__.py)\n",
      "\u001b[32m2025-06-07T04:49:50.567000+00:00\u001b[0m \u001b[36m2025/06/07/[$LATEST]b638a0c27d3c4397b337403736f5e4c1\u001b[0m INIT_REPORT Init Duration: 467.27 ms\tPhase: invoke\tStatus: error\tError Type: Runtime.ImportModuleError\n",
      "\u001b[32m2025-06-07T04:49:50.567000+00:00\u001b[0m \u001b[36m2025/06/07/[$LATEST]b638a0c27d3c4397b337403736f5e4c1\u001b[0m START RequestId: b93c3287-57dd-4e80-ac3c-2090293fb1b9 Version: $LATEST\n",
      "\u001b[32m2025-06-07T04:49:50.568000+00:00\u001b[0m \u001b[36m2025/06/07/[$LATEST]b638a0c27d3c4397b337403736f5e4c1\u001b[0m Unknown application error occurred\n",
      "Runtime.ImportModuleError\n",
      "\u001b[32m2025-06-07T04:49:50.568000+00:00\u001b[0m \u001b[36m2025/06/07/[$LATEST]b638a0c27d3c4397b337403736f5e4c1\u001b[0m END RequestId: b93c3287-57dd-4e80-ac3c-2090293fb1b9\n",
      "\u001b[32m2025-06-07T04:49:50.568000+00:00\u001b[0m \u001b[36m2025/06/07/[$LATEST]b638a0c27d3c4397b337403736f5e4c1\u001b[0m REPORT RequestId: b93c3287-57dd-4e80-ac3c-2090293fb1b9\tDuration: 468.04 ms\tBilled Duration: 469 ms\tMemory Size: 1024 MB\tMax Memory Used: 27 MB\n",
      "\u001b[32m2025-06-07T04:52:03.765000+00:00\u001b[0m \u001b[36m2025/06/07/[$LATEST]c7f1aba6bf8e4b24bd1ab7fac1f112a3\u001b[0m START RequestId: a6063193-e9e1-40f6-bcdf-bd2537effde2 Version: $LATEST\n",
      "\u001b[32m2025-06-07T04:52:03.766000+00:00\u001b[0m \u001b[36m2025/06/07/[$LATEST]c7f1aba6bf8e4b24bd1ab7fac1f112a3\u001b[0m {\"level\":\"INFO\",\"location\":\"lambda_handler:240\",\"message\":\"Lambda handler invoked\",\"timestamp\":\"2025-06-07 04:52:03,766+0000\",\"service\":\"service_undefined\",\"cold_start\":true,\"function_name\":\"just-my-links--store-document--dev\",\"function_memory_size\":\"1024\",\"function_arn\":\"arn:aws:lambda:us-east-1:145216492484:function:just-my-links--store-document--dev\",\"function_request_id\":\"a6063193-e9e1-40f6-bcdf-bd2537effde2\",\"correlation_id\":\"LxvJ0g5koAMEJHQ=\",\"event_type\":\"unknown\",\"xray_trace_id\":\"1-6843c571-15b0a53739a13a1d18721053\"}\n",
      "\u001b[32m2025-06-07T04:52:03.767000+00:00\u001b[0m \u001b[36m2025/06/07/[$LATEST]c7f1aba6bf8e4b24bd1ab7fac1f112a3\u001b[0m {\"level\":\"DEBUG\",\"location\":\"get_bearer_token:266\",\"message\":\"Will fetch token from Secrets Manager\",\"timestamp\":\"2025-06-07 04:52:03,767+0000\",\"service\":\"service_undefined\",\"cold_start\":true,\"function_name\":\"just-my-links--store-document--dev\",\"function_memory_size\":\"1024\",\"function_arn\":\"arn:aws:lambda:us-east-1:145216492484:function:just-my-links--store-document--dev\",\"function_request_id\":\"a6063193-e9e1-40f6-bcdf-bd2537effde2\",\"correlation_id\":\"LxvJ0g5koAMEJHQ=\",\"secret_arn\":\"arn:aws:secretsmanager:us-east-1:145216492484:secret:just-my-links--auth-token--dev-u4xO5r\",\"xray_trace_id\":\"1-6843c571-15b0a53739a13a1d18721053\"}\n",
      "\u001b[32m2025-06-07T04:52:03.855000+00:00\u001b[0m \u001b[36m2025/06/07/[$LATEST]c7f1aba6bf8e4b24bd1ab7fac1f112a3\u001b[0m {\"level\":\"DEBUG\",\"location\":\"get_bearer_token:274\",\"message\":\"Bearer token retrieved from Secrets Manager\",\"timestamp\":\"2025-06-07 04:52:03,855+0000\",\"service\":\"service_undefined\",\"cold_start\":true,\"function_name\":\"just-my-links--store-document--dev\",\"function_memory_size\":\"1024\",\"function_arn\":\"arn:aws:lambda:us-east-1:145216492484:function:just-my-links--store-document--dev\",\"function_request_id\":\"a6063193-e9e1-40f6-bcdf-bd2537effde2\",\"correlation_id\":\"LxvJ0g5koAMEJHQ=\",\"xray_trace_id\":\"1-6843c571-15b0a53739a13a1d18721053\"}\n",
      "\u001b[32m2025-06-07T04:52:03.856000+00:00\u001b[0m \u001b[36m2025/06/07/[$LATEST]c7f1aba6bf8e4b24bd1ab7fac1f112a3\u001b[0m {\"level\":\"DEBUG\",\"location\":\"authentication_middleware:427\",\"message\":\"Authentication successful\",\"timestamp\":\"2025-06-07 04:52:03,855+0000\",\"service\":\"service_undefined\",\"cold_start\":true,\"function_name\":\"just-my-links--store-document--dev\",\"function_memory_size\":\"1024\",\"function_arn\":\"arn:aws:lambda:us-east-1:145216492484:function:just-my-links--store-document--dev\",\"function_request_id\":\"a6063193-e9e1-40f6-bcdf-bd2537effde2\",\"correlation_id\":\"LxvJ0g5koAMEJHQ=\",\"xray_trace_id\":\"1-6843c571-15b0a53739a13a1d18721053\"}\n",
      "\u001b[32m2025-06-07T04:52:03.856000+00:00\u001b[0m \u001b[36m2025/06/07/[$LATEST]c7f1aba6bf8e4b24bd1ab7fac1f112a3\u001b[0m /var/lang/lib/python3.13/site-packages/aws_lambda_powertools/metrics/provider/base.py:211: UserWarning: No application metrics to publish. The cold-start metric may be published if enabled. If application metrics should never be empty, consider using 'raise_on_empty_metrics'\n",
      "\u001b[32m2025-06-07T04:52:03.856000+00:00\u001b[0m \u001b[36m2025/06/07/[$LATEST]c7f1aba6bf8e4b24bd1ab7fac1f112a3\u001b[0m self.flush_metrics(raise_on_empty_metrics=raise_on_empty_metrics)\n",
      "\u001b[32m2025-06-07T04:52:03.858000+00:00\u001b[0m \u001b[36m2025/06/07/[$LATEST]c7f1aba6bf8e4b24bd1ab7fac1f112a3\u001b[0m END RequestId: a6063193-e9e1-40f6-bcdf-bd2537effde2\n",
      "\u001b[32m2025-06-07T04:52:03.858000+00:00\u001b[0m \u001b[36m2025/06/07/[$LATEST]c7f1aba6bf8e4b24bd1ab7fac1f112a3\u001b[0m REPORT RequestId: a6063193-e9e1-40f6-bcdf-bd2537effde2\tDuration: 93.45 ms\tBilled Duration: 1848 ms\tMemory Size: 1024 MB\tMax Memory Used: 99 MB\tInit Duration: 1754.48 ms\n",
      "\u001b[0m"
     ]
    },
    {
     "name": "stdout",
     "output_type": "stream",
     "text": [
      "\u001b[0m"
     ]
    }
   ],
   "source": [
    "!aws logs tail /aws/lambda/just-my-links--store-document--dev"
   ]
  },
  {
   "cell_type": "code",
   "execution_count": 8,
   "id": "db8869b1-f9b7-48ba-b18a-4f7cddd7e8e8",
   "metadata": {
    "collapsed": false,
    "jupyter": {
     "outputs_hidden": false
    }
   },
   "outputs": [
    {
     "data": {
      "text/plain": [
       "(404, '{\"statusCode\":404,\"message\":\"Not found\"}')"
      ]
     },
     "execution_count": 8,
     "metadata": {},
     "output_type": "execute_result"
    }
   ],
   "source": [
    "import urllib.parse\n",
    "\n",
    "# Test document storage with multipart form data\n",
    "document_url = \"https://example.com/test-article\"\n",
    "document_content = \"<html><body><h1>Test Article</h1><p>This is a test article content.</p></body></html>\"\n",
    "\n",
    "# URL encode the document_url for the path parameter\n",
    "encoded_url = urllib.parse.quote(document_url, safe='')\n",
    "endpoint_url = f\"{document_store_uri}/document/{encoded_url}\"\n",
    "\n",
    "# Prepare multipart form data\n",
    "files = {\n",
    "    'document': ('document.html', document_content, 'text/html')\n",
    "}\n",
    "\n",
    "response = requests.put(\n",
    "    endpoint_url,\n",
    "    headers={\"Authorization\": f\"Bearer {auth_token}\"},\n",
    "    files=files\n",
    ")\n",
    "\n",
    "response.status_code, response.text"
   ]
  },
  {
   "cell_type": "markdown",
   "id": "f7bd9aea-d0b3-40e0-bfb0-4c452a81d097",
   "metadata": {
    "collapsed": false,
    "jupyter": {
     "outputs_hidden": false
    }
   },
   "source": [
    "Deploy changes to both lambda services"
   ]
  },
  {
   "cell_type": "code",
   "execution_count": null,
   "id": "ac7d1810-27c9-42fb-8754-5ac93d936e2d",
   "metadata": {
    "collapsed": false,
    "jupyter": {
     "outputs_hidden": false
    }
   },
   "outputs": [],
   "source": [
    "!scripts/deploy-document-storage-service.py"
   ]
  },
  {
   "cell_type": "code",
   "execution_count": null,
   "id": "85741c5e-8a34-49e1-b38b-7acae451831c",
   "metadata": {
    "collapsed": false,
    "jupyter": {
     "outputs_hidden": false
    }
   },
   "outputs": [],
   "source": [
    "!scripts/deploy-indexing-service.py"
   ]
  },
  {
   "cell_type": "markdown",
   "id": "659ba194-bf34-442b-8387-05249a0aa8c0",
   "metadata": {
    "collapsed": false,
    "jupyter": {
     "outputs_hidden": false
    }
   },
   "source": [
    "Turn on debug logging with"
   ]
  },
  {
   "cell_type": "code",
   "execution_count": 7,
   "id": "84d323f0-fcd5-4085-a711-d0d4d17b61da",
   "metadata": {
    "collapsed": false,
    "jupyter": {
     "outputs_hidden": false
    }
   },
   "outputs": [
    {
     "data": {
      "text/plain": [
       "'debug on'"
      ]
     },
     "execution_count": 7,
     "metadata": {},
     "output_type": "execute_result"
    }
   ],
   "source": [
    "function_name = 'just-my-links--store-document--dev'\n",
    "lambda_client = boto3.client('lambda')\n",
    "\n",
    "response = lambda_client.get_function_configuration(FunctionName=function_name)\n",
    "\n",
    "current_variables = {**response.get('Environment', {}).get('Variables', {}), \"LOG_LEVEL\": \"DEBUG\"}\n",
    "\n",
    "lambda_client.update_function_configuration(FunctionName=function_name, Environment={'Variables': current_variables})\n",
    "\"debug on\""
   ]
  },
  {
   "cell_type": "markdown",
   "id": "626747f1-98fe-4f0f-8c3f-1d359d723e77",
   "metadata": {
    "collapsed": false,
    "jupyter": {
     "outputs_hidden": false
    }
   },
   "source": []
  }
 ],
 "metadata": {
  "kernelspec": {
   "display_name": "Python 3 (ipykernel)",
   "language": "python",
   "name": "python3"
  },
  "language_info": {
   "codemirror_mode": {
    "name": "ipython",
    "version": 3
   },
   "file_extension": ".py",
   "mimetype": "text/x-python",
   "name": "python",
   "nbconvert_exporter": "python",
   "pygments_lexer": "ipython3",
   "version": "3.13.2"
  },
  "name": "current-work.ipynb"
 },
 "nbformat": 4,
 "nbformat_minor": 5
}
