{
 "cells": [
  {
   "cell_type": "markdown",
   "metadata": {},
   "source": [
    "# Pocket Alternative\n",
    "\n",
    "[Pocket is shutting down](https://support.mozilla.org/en-US/kb/future-of-pocket)\n",
    "\n",
    "I don't trust that anyone else who has alternatives is going to be able to necessarily be around forever so I guess I have to make it myself."
   ]
  },
  {
   "cell_type": "markdown",
   "metadata": {},
   "source": [
    "## Setup\n",
    "\n",
    "### Project Setup\n",
    "To set up the development environment:\n",
    "\n",
    "This project uses [uv](https://docs.astral.sh/uv/getting-started/installation/) for managing all things Python including notebooks."
   ]
  },
  {
   "cell_type": "markdown",
   "metadata": {},
   "source": [
    "## Requirements\n",
    "So here's what I want\n",
    "\n",
    "### Goals\n",
    "- A browser extension that I can trigger on any link\n",
    "- An Android app that I can share links to\n",
    "- The ability to tag links\n",
    "- The ability to search stored links searching across both tags and text\n",
    "- Keep costs low. We can use AWS or something, but I want to stay within the free tier as much as possible\n",
    "- Some sort of monitoring\n",
    "\n",
    "### Nice-to-haves\n",
    "- Store the full article text\n",
    "- Ability to pierce paywalls somewhat\n",
    "- Use the archive link if the full link has a paywall\n",
    "- AI-enabled search via embeddings\n",
    "- CI/CD\n",
    "\n",
    "### Non-goals\n",
    "- Dealing with the app store, I'll side-load the app if need be\n",
    "- Multi-tenancy, I'm ok with just a single account for the entire instance\n",
    "- Scale"
   ]
  },
  {
   "cell_type": "markdown",
   "metadata": {},
   "source": [
    "## Setup\n",
    "\n",
    "### AWS Account Configuration\n",
    "\n",
    "#### SSO\n",
    "Follow the steps in the jupyter notebook here to set it up [here.](./aws-configuration.ipynb)"
   ]
  }
 ],
 "metadata": {
  "kernelspec": {
   "display_name": "Python 3",
   "language": "python",
   "name": "python3"
  },
  "language_info": {
   "codemirror_mode": {
    "name": "ipython",
    "version": 3
   },
   "file_extension": ".py",
   "mimetype": "text/x-python",
   "name": "python",
   "nbconvert_exporter": "python",
   "pygments_lexer": "ipython3",
   "version": "3.10.12"
  }
 },
 "nbformat": 4,
 "nbformat_minor": 4
}
