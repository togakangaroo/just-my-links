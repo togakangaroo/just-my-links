{
 "cells": [
  {
   "cell_type": "markdown",
   "id": "bdc70b5b-4f67-4e10-a3d6-97ba0bdcf8d9",
   "metadata": {
    "collapsed": false
   },
   "source": [
    "[Pocket is shutting down](https://support.mozilla.org/en-US/kb/future-of-pocket)\n",
    "\n",
    "I don't trust that anyone else who has alternatives is going to be able to necessarily be around forever so I guess I have to make it myself."
   ]
  },
  {
   "cell_type": "markdown",
   "id": "c7ecf0b2-8a1e-48dc-bec7-1061d7915bde",
   "metadata": {
    "collapsed": false
   },
   "source": [
    "# Requirements\n",
    "So here's what I want\n",
    "\n",
    "## Goals\n",
    "- A browser extension that I can trigger on any link\n",
    "- An Android app that I can share links to\n",
    "- The ability to tag links\n",
    "- The ability to search stored links searching across both tags and text\n",
    "- Keep costs low. We can use AWS or something, but I want to stay within the free tier as much as possible\n",
    "- Some sort of monitoring\n",
    "\n",
    "## Nice-to-haves\n",
    "- Store the full article text\n",
    "- Ability to pierce paywalls somewhat\n",
    "- Use the archive link if the full link has a paywall\n",
    "- AI-enabled search via embeddings\n",
    "- CI/CD\n",
    "\n",
    "## Non-goals\n",
    "- Dealing with the app store, I'll side-load the app if need be\n",
    "- Multi-tenancy, I'm ok with just a single account for the entire instance\n",
    "- Scale"
   ]
  },
  {
   "cell_type": "markdown",
   "id": "0aecaf18-99ce-4c11-acdb-1b28c81d4d65",
   "metadata": {
    "collapsed": false
   },
   "source": [
    "\n",
    "# Setup\n",
    "\n",
    "## Project Setup\n",
    "To set up the development environment:\n",
    "\n",
    "This project uses [uv](https://docs.astral.sh/uv/getting-started/installation/) for managing all things Python including notebooks. This is largely to run tests and notebooks locally. Start the juypter server from this folder"
   ]
  },
  {
   "cell_type": "markdown",
   "id": "70bb2760-d1df-4cf1-966a-977dcc38e67e",
   "metadata": {
    "collapsed": false
   },
   "source": [
    "## AWS Account Configuration\n",
    "\n",
    "### SSO\n",
    "Optional but recommended: follow the steps in the jupyter notebook here to set it up [here.](./aws-configuration.ipynb)"
   ]
  },
  {
   "cell_type": "markdown",
   "id": "f665ad93-9514-4979-9310-ff4336042f1c",
   "metadata": {
    "collapsed": false
   },
   "source": [
    "# Architecture\n",
    "\n",
    "## V0\n",
    "\n",
    "### Brainstorming\n",
    "Here's how this is going to work:\n",
    "\n",
    "A chrome plugin will - when triggered - give an optional popup to prefill tags, then  take that and the full content of the current web page as html or text, the url, and sends it (and maybe some images) to our \"index-document\" web service.\n",
    "\n",
    "This is something that is implemented via an api gateway REST endpoint that triggers aws lambda. The lambda will be named `just-my-links-index-document` and the implementation should be in `python3.13`, and deployed via a container that is stored in an ecr registry.\n",
    "\n",
    "The index-document service implementation will use aws lambda powertools for their good logging defaults, typing, rest api handling structures, and so on\n",
    "\n",
    "Logs need to be written to s3 for backup. There should be alerts on that bucket filling up to be too large that email me\n",
    "\n",
    "Within that service we are going to be receiving the sent documents and using the chromadb python package to add them to the database. The database will be stored in S3 and downloaded to Lambda's /tmp directory at startup, then uploaded back to S3 after processing.\n",
    "\n",
    "Authentication will be simply checking a bearer token header against a value stored in secret manager\n",
    "\n",
    "Only one of these lambdas should run at a time\n",
    "\n",
    "there should also be an eventbridge named `just-my-links` and when the lambda successfully finishes adding a document, it should publish an event with a `type` property of \"Document stored\"\n",
    "\n",
    "Then create a command line tool - it can be a python script - that will let me query my documents using boto3 or some other sdk. Using this I should be able to query my chromadb store using natural language and get urls\n",
    "\n",
    "### Data Flow:\n",
    "\n",
    "- Chrome plugin captures page content and sends to API Gateway\n",
    "- API Gateway triggers the a Lambda function\n",
    "- Lambda athenticates by checking bearer header against value in Secrets Manager\n",
    "- Lambda downloads ChromaDB from S3 to /tmp, processes and stores documents, then uploads back to S3\n",
    "- Lambda publishes success event to EventBridge\n",
    "- CLI tool downloads ChromaDB from S3 to query locally\n",
    "\n",
    "### Key Features:\n",
    "\n",
    "- Single Lambda Execution: The Lambda is configured for single concurrent execution to avoid S3 concurrency conflicts\n",
    "- S3-based Storage: ChromaDB data stored in S3, downloaded to Lambda /tmp for processing, then uploaded back\n",
    "- Logging & Monitoring: CloudWatch logs backed up to S3 with size alerts\n",
    "- Event-notifications: EventBridge publishes \"Document stored\" events\n",
    "- Container Deployment: Lambda deployed from ECR container registry\n",
    "- CLI tool interface to download ChromaDB from S3 and query locally using natural language queries, returning URLs from indexed documents."
   ]
  }
 ],
 "metadata": {
  "kernelspec": {
   "argv": [
    "python",
    "-m",
    "ipykernel_launcher",
    "-f",
    "{connection_file}"
   ],
   "display_name": "Python 3 (ipykernel)",
   "env": null,
   "interrupt_mode": "signal",
   "language": "python",
   "metadata": {
    "debugger": true
   },
   "name": "python3"
  },
  "language_info": {
   "codemirror_mode": {
    "name": "ipython",
    "version": 3
   },
   "file_extension": ".py",
   "mimetype": "text/x-python",
   "name": "python",
   "nbconvert_exporter": "python",
   "pygments_lexer": "ipython3",
   "version": "3.10.12"
  },
  "name": "README.ipynb"
 },
 "nbformat": 4,
 "nbformat_minor": 4
}
