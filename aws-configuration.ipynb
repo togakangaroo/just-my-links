{
 "cells": [
  {
   "cell_type": "markdown",
   "id": "0777a628-b4be-4b8e-bbf1-5bf2695b9a62",
   "metadata": {
    "collapsed": false
   },
   "source": [
    "# AWS SSO Configuration\n",
    "\n",
    "This notebook guides you through setting up AWS SSO for easier admin CLI access. When done, you will be able to log into your AWS account from the cli with something like this:\n",
    "\n",
    "```shell\n",
    "export AWS_PROFILE=just-my-links\n",
    "aws sso login\n",
    "```\n",
    "\n",
    "While not necessary to do it this way, it makes it easier to use AWS from your CLI. You do need CLI access to AWS if you are going to be running Terraform locally (which is very helpful for development).\n",
    "\n",
    "Note that this is *only a good idea* for the admin account you use to inspect and interact with AWS in the course of ops duties. You do not want to (and in fact can't) use this process for CI/CD.\n",
    "\n",
    "To do this you first need to\n",
    "\n",
    "- Have or create an AWS account (you will need to supply a payment method though the expectation is that usage will be low enough to not get billed.)\n",
    "- Log into your AWS account via the UI.\n",
    "  - Ideally as part of account creation you created a superuser non-root account that you are using. Avoid using the root user whenever possible!\n",
    "- Navigate to *IAM Identity Center* and click *Enable*"
   ]
  },
  {
   "cell_type": "markdown",
   "id": "c548e16a-a3fb-4afc-9ac8-b6eb1254ecd4",
   "metadata": {
    "collapsed": false
   },
   "source": [
    "Now we want to set up an sso user.\n",
    "\n",
    "The following will all be in CloudShell console in the browser. Code is denoted in markdown specifically for that reason - it is not meant to be run locally on your machine since you have not set up your cli to connect to aws yet. Instead, copy and paste it into Cloudshell within the AWS console in your browser.\n",
    "\n",
    "When Identity Center is enabled you should be able to run this to see an instance of an organization:\n",
    "\n",
    "```shell\n",
    "aws sso-admin list-instances\n",
    "```\n",
    "\n",
    "The following assumes that you have just one instance above. If not you will want to identify what the correct one is (probably the one with \"sso\" in the arn) and use its arn instead of the dynamically queried one below\n",
    "\n",
    "Lets record our instance arn, account id, and identity store id into variables within the current CLI session just so we have rapid access to them\n",
    "```shell\n",
    "ACCOUNT_ID=$(aws sts get-caller-identity --query \"Account\" --output text)\n",
    "INSTANCE_ARN=$(aws sso-admin list-instances --query 'Instances[0].InstanceArn' --output text)\n",
    "IDENTITY_STORE_ID=$(aws sso-admin list-instances --query 'Instances[0].IdentityStoreId' --output text)\n",
    "```\n",
    "\n",
    "Note the `IDENTITY_STORE_ID` above. Your sso instance has a url that you will visit to log in, you will need to note it. It will be something like `https://d-00000000bba.awsapps.com/start/#` you can get it with\n",
    "```shell\n",
    "echo \"https://$IDENTITY_STORE_ID.awsapps.com/start/#\"\n",
    "```\n",
    "\n",
    "You'll need this for sso configuration further down\n",
    "\n",
    "Then create an admin permission set:\n",
    "```shell\n",
    "aws sso-admin create-permission-set \\\n",
    "  --instance-arn \"$INSTANCE_ARN\" \\\n",
    "  --name \"AdministratorAccess\" \\\n",
    "  --description \"Provides full access to AWS services and resources\" \\\n",
    "  --session-duration \"PT8H\"\n",
    "```\n",
    "Note the permission set arn noted above you will use it. Assuming it is the only one (it should be), you can set it manually the variable below or just run this\n",
    "\n",
    "```shell\n",
    "PERMISSION_SET_ARN=$(aws sso-admin list-permission-sets-provisioned-to-account \\\n",
    "                        --instance-arn \"$INSTANCE_ARN\" \\\n",
    "                        --account-id \"$ACCOUNT_ID\" \\\n",
    "                        --output text \\\n",
    "                        --query \"PermissionSets[0]\")\n",
    "```\n",
    "\n",
    "We then want to attach the admin access policy to this permission set.\n",
    "\n",
    "Use this to determine if the first found permission set is indeed the admin permission set - it will say \"AdministratorAccess\"\n",
    "\n",
    "```shell\n",
    "aws sso-admin describe-permission-set \\\n",
    "  --instance-arn \"$INSTANCE_ARN\" \\\n",
    "  --permission-set-arn \"$PERMISSION_SET_ARN\"\n",
    "```\n",
    "\n",
    "Then if so, attach the admin policy:\n",
    "\n",
    "```shell\n",
    "aws sso-admin attach-managed-policy-to-permission-set \\\n",
    "  --instance-arn \"$INSTANCE_ARN\"\n",
    "  --permission-set-arn \"$PERMISSION_SET_ARN\" \\\n",
    "  --managed-policy-arn \"arn:aws:iam::aws:policy/AdministratorAccess\"\n",
    "```\n",
    "\n",
    "Create an sso user for yourself. **Use your own values for email and name!** I don't want to be getting your reset links.\n",
    "```shell\n",
    "MY_EMAIL=gmauer@gmail.com\n",
    "MY_GIVEN_NAME=George\n",
    "MY_FAMILY_NAME=Mauer\n",
    "aws identitystore create-user \\\n",
    "  --identity-store-id \"$IDENTITY_STORE_ID\" \\\n",
    "  --user-name \"$MY_EMAIL\" \\\n",
    "  --name \"GivenName=$MY_GIVEN_NAME,FamilyName=$MY_FAMILY_NAME\" \\\n",
    "  --emails \"Value=$MY_EMAIL,Type=Primary\" \\\n",
    "  --display-name \"$MY_GIVEN_NAME $MY_FAMILY_NAME\"\n",
    "```\n",
    "\n",
    "Now lets assign admin access to this user. Note that the below looks up the id of the user created above by username. If you have it you can just sub it in\n",
    "\n",
    "```shell\n",
    "aws sso-admin create-account-assignment \\\n",
    "  --instance-arn \"$INSTANCE_ARN\" \\\n",
    "  --target-id \"$ACCOUNT_ID\" \\\n",
    "  --target-type AWS_ACCOUNT \\\n",
    "  --permission-set-arn \"$PERMISSION_SET_ARN\" \\\n",
    "  --principal-type USER \\\n",
    "  --principal-id $(aws identitystore list-users --identity-store-id $\"$IDENTITY_STORE_ID\" --filters \"AttributePath=UserName,AttributeValue=$MY_EMAIL\" --query 'Users[0].UserId' --output text)\n",
    "```\n",
    "\n",
    "Finally, you will need to set up a password for this user. *This is not doable through the CLI*.\n",
    "- Check your email, you will likely have to click a link to confirm it.\n",
    "- Go to the IAM Identity Center\n",
    "- Navigate to Users\n",
    "- Select your user\n",
    "- Click the \"Reset Password\" button\n",
    "\n",
    "You may select the appropriate thing at this point but a straightforward recommendation is to select \"generate a one-time password\" and copy it to be used when logging in"
   ]
  },
  {
   "cell_type": "markdown",
   "id": "1563a5b6-3baa-4869-b599-320813190f83",
   "metadata": {
    "collapsed": false
   },
   "source": [
    "For this next part you'll need the sso login url we calculated above from the `IDENTITY_STORE_ID` and your new user email/password.\n",
    "\n",
    "*The following is in the local CLI* and you should have to do it only once:"
   ]
  },
  {
   "cell_type": "code",
   "execution_count": null,
   "id": "dcdf0a4b-b498-4e46-bf5a-6ba73bed397b",
   "metadata": {
    "collapsed": false
   },
   "outputs": [],
   "source": [
    "!aws configure sso"
   ]
  },
  {
   "cell_type": "markdown",
   "id": "1a8469bd-05d0-4455-9fdb-1bda8e97ae7f",
   "metadata": {
    "collapsed": false
   },
   "source": [
    "During login, reset your password [using your password manager](https://1password.com/) and ideally set up MFA. Click through menues to eventually get the AWS apps account screen. This is very useful for managing multiple aws accounts. Here you can log into a specific account as a user or view sso keys, however we're just going to set up a profile locally so you can click off of this screen.\n",
    "\n",
    "For the following you'll need the `ACCOUNT_ID` from above and the SSO login url you just use. Create an entry in [~/.aws/config](~/.aws/config) that looks like this:\n",
    "\n",
    "```toml\n",
    "[profile just-my-links]\n",
    "sso_start_url = FILL_IN_YOUR_SSO_LINK\n",
    "sso_account_id = FILL_IN_YOUR_ACCOUNT_ID\n",
    "sso_region = us-east-1\n",
    "sso_role_name = AdministratorAccess\n",
    "sso_session_name = default\n",
    "output = json\n",
    "region = us-east-1\n",
    "```"
   ]
  },
  {
   "cell_type": "markdown",
   "id": "2c25190c-3576-4c52-8b8d-945b8b19c1bc",
   "metadata": {
    "collapsed": false
   },
   "source": [
    "You may then login with SSO by first setting your aws profile to use the `just-my-links` profile"
   ]
  },
  {
   "cell_type": "code",
   "execution_count": 1,
   "id": "4e41ef53-34b7-4037-a687-1171012bc52d",
   "metadata": {
    "collapsed": false
   },
   "outputs": [
    {
     "name": "stdout",
     "output_type": "stream",
     "text": [
      "env: AWS_PROFILE=just-my-links\n"
     ]
    }
   ],
   "source": [
    "%env AWS_PROFILE=just-my-links"
   ]
  },
  {
   "cell_type": "markdown",
   "id": "897b94b4-2803-4ba4-969c-e3ea59ddc412",
   "metadata": {
    "collapsed": false
   },
   "source": [
    "And finally you can log in"
   ]
  },
  {
   "cell_type": "code",
   "execution_count": null,
   "id": "96a2171f-2c89-4e82-962a-882db1bdcec1",
   "metadata": {
    "collapsed": false
   },
   "outputs": [],
   "source": [
    "!aws sso login"
   ]
  },
  {
   "cell_type": "markdown",
   "id": "292ba2d2-2655-4e16-b387-558999a82343",
   "metadata": {
    "collapsed": false
   },
   "source": [
    "A browser window will open and you will be prompted to click through a series of screens (remember to use your password manager!). You may also visit the above link manually and click through.\n",
    "\n",
    "You will now be connected to your aws account. Note that the way `aws sso` works, your login is per-profile, not per-cli-session. You don't need to manage aws keys environment variables or anything like that. So long as the profile used is the above, you will be logged in as long as your sso session lasts. Running the following should show you your logged in user identity."
   ]
  },
  {
   "cell_type": "code",
   "execution_count": 3,
   "id": "fe88aeec-3b8f-41cb-b7dc-ccf306c977f0",
   "metadata": {
    "collapsed": false
   },
   "outputs": [
    {
     "name": "stdout",
     "output_type": "stream",
     "text": [
      "{\r\n",
      "    \"UserId\": \"AROASDT4T2PCFCLRY32IU:gmauer@gmail.com\",\r\n",
      "    \"Account\": \"145216492484\",\r\n",
      "    \"Arn\": \"arn:aws:sts::145216492484:assumed-role/AWSReservedSSO_AdministratorAccess_7d6c5139d9951c91/gmauer@gmail.com\"\r\n",
      "}\r\n"
     ]
    }
   ],
   "source": [
    "!aws sts get-caller-identity"
   ]
  },
  {
   "cell_type": "markdown",
   "id": "0288eb0c-8f96-4fe6-b9ae-eb4eb565e371",
   "metadata": {
    "collapsed": false
   },
   "source": [
    "This session will last as we configured in the permission set (8h above) and as long as your `aws` environment knows which profile to use (typically by ensuring the `AWS_PROFILE` environment variable is set) you will be logged in.\n",
    "\n",
    "Be careful with this, your local cli now has admin access!"
   ]
  },
  {
   "cell_type": "markdown",
   "id": "d7d685cc-f0f3-435d-b738-719f5d8bf6c4",
   "metadata": {
    "collapsed": false
   },
   "source": [
    "# Working with deployment\n",
    "\n",
    "## Initial Infrastructure deployment\n",
    "\n",
    "We deploy cloudformation in two runs. The first sets up our \"initial\" things that must exist and the second our lambdas that are built on top of it. We have to pass `IsFirstRun=true` like so\n",
    "\n",
    "Note that the following will deploy a stack with the \"dev\" suffix implying its a dev environment"
   ]
  },
  {
   "cell_type": "code",
   "execution_count": null,
   "id": "cb2adc2d-c4c6-49ca-8936-2d348e0dc438",
   "metadata": {
    "collapsed": false
   },
   "outputs": [],
   "source": [
    "!cd ./cloudformation && ./scripts/deploy.sh dev IsFirstRun=true"
   ]
  },
  {
   "cell_type": "markdown",
   "id": "aa261313-6d0e-41e0-9d7a-d6eda1a61940",
   "metadata": {
    "collapsed": false
   },
   "source": [
    "You can query potential errors of your stack with the following, again, note that `-dev` suffix which is due to the `dev` environment being used above"
   ]
  },
  {
   "cell_type": "code",
   "execution_count": null,
   "id": "31634614-a825-439a-a5f0-f1d95b788e80",
   "metadata": {
    "collapsed": false
   },
   "outputs": [],
   "source": [
    "!aws cloudformation describe-stack-events --stack-name just-my-links-dev --query 'StackEvents[?ResourceStatus==`CREATE_FAILED` || ResourceStatus==`ROLLBACK_IN_PROGRESS` || ResourceStatus==`ROLLBACK_COMPLETE`]' | cat"
   ]
  },
  {
   "cell_type": "markdown",
   "id": "69f6f79d-d526-47b3-9254-96f8c77a9979",
   "metadata": {
    "collapsed": false
   },
   "source": [
    "On failure, before trying again, you might need to delete your stack"
   ]
  },
  {
   "cell_type": "code",
   "execution_count": 79,
   "id": "dd58c658-d691-4d44-8ded-9170be32463b",
   "metadata": {
    "collapsed": false
   },
   "outputs": [],
   "source": [
    "!aws cloudformation delete-stack --stack-name just-my-links-dev"
   ]
  },
  {
   "cell_type": "markdown",
   "id": "c095b9b8-6814-49bb-8aba-5ec5654109da",
   "metadata": {
    "collapsed": false
   },
   "source": [
    "You can also check outputs of the cloudformation stack like this"
   ]
  },
  {
   "cell_type": "code",
   "execution_count": 81,
   "id": "554c31dd-4668-42fc-93cb-4fa9c2511ec7",
   "metadata": {
    "collapsed": false
   },
   "outputs": [
    {
     "name": "stdout",
     "output_type": "stream",
     "text": [
      "[\r\n",
      "    {\r\n",
      "        \"OutputKey\": \"ApplicationBucketName\",\r\n",
      "        \"OutputValue\": \"just-my-links-dev-145216492484\",\r\n",
      "        \"Description\": \"S3 Bucket name for application data (ChromaDB and logs)\",\r\n",
      "        \"ExportName\": \"dev-just-my-links-application-bucket\"\r\n",
      "    },\r\n",
      "    {\r\n",
      "        \"OutputKey\": \"EcrRepositoryUri\",\r\n",
      "        \"OutputValue\": \"145216492484.dkr.ecr.us-east-1.amazonaws.com/dev-just-my-links-lambda\",\r\n",
      "        \"Description\": \"ECR Repository URI\"\r\n",
      "    },\r\n",
      "    {\r\n",
      "        \"OutputKey\": \"BearerTokenSecretName\",\r\n",
      "        \"OutputValue\": \"arn:aws:secretsmanager:us-east-1:145216492484:secret:dev-just-my-links-bearer-token-QKGIdU\",\r\n",
      "        \"Description\": \"Name of the bearer token secret in Secrets Manager\",\r\n",
      "        \"ExportName\": \"dev-just-my-links-bearer-token-secret-name\"\r\n",
      "    }\r\n",
      "]\r\n"
     ]
    }
   ],
   "source": [
    "!aws cloudformation describe-stacks --stack-name just-my-links-dev --query 'Stacks[0].Outputs'"
   ]
  },
  {
   "cell_type": "markdown",
   "id": "95ea52de-b983-4de3-8b45-dc735b6b43f0",
   "metadata": {
    "collapsed": false
   },
   "source": [
    "At this pont we need to build and upload an image so our lambda can reference it when its deployed."
   ]
  },
  {
   "cell_type": "code",
   "execution_count": null,
   "id": "58d9885a-aaa6-44b5-b873-4ebab51f7a25",
   "metadata": {
    "collapsed": false
   },
   "outputs": [],
   "source": [
    "!scripts/deploy-indexing-service.py"
   ]
  },
  {
   "cell_type": "markdown",
   "id": "3553dbb5-1f37-4b99-adcf-98c7c61e3ef8",
   "metadata": {
    "collapsed": false
   },
   "source": [
    "View what's been published"
   ]
  },
  {
   "cell_type": "code",
   "execution_count": 88,
   "id": "d9db7f86-b3b5-4044-b155-38c890be8f8a",
   "metadata": {
    "collapsed": false
   },
   "outputs": [
    {
     "name": "stdout",
     "output_type": "stream",
     "text": [
      "{\r\n",
      "    \"imageIds\": [\r\n",
      "        {\r\n",
      "            \"imageDigest\": \"sha256:0c07e5d1929be7fc20ef1be1e765930dd8e6987d1972f389b99dc4ee270931d7\",\r\n",
      "            \"imageTag\": \"latest\"\r\n",
      "        }\r\n",
      "    ]\r\n",
      "}\r\n"
     ]
    }
   ],
   "source": [
    "!aws ecr list-images --repository-name dev-just-my-links-lambda"
   ]
  },
  {
   "cell_type": "markdown",
   "id": "99828971-6d93-471f-8cc0-d0bfc526ae09",
   "metadata": {
    "collapsed": false
   },
   "source": [
    "And now we can do the rest of the deploy"
   ]
  },
  {
   "cell_type": "code",
   "execution_count": null,
   "id": "0a53fc8b-9f86-45dc-969f-7bf15e56f50c",
   "metadata": {
    "collapsed": false
   },
   "outputs": [],
   "source": [
    "!cd ./cloudformation && ./scripts/deploy.sh dev IsFirstRun=false"
   ]
  },
  {
   "cell_type": "markdown",
   "id": "a4f4557e-4a47-435c-ae24-b1f502f75237",
   "metadata": {
    "collapsed": false
   },
   "source": [
    "Note that because parameter values are defaulted to the previous cloudformation run, the IsFirstRun parameter *does* explicitly need to be set to `false` when this is invoked for the first time. Afterwards, the parameter can be omitted. When this deploy runs, it will give us an api gateway url or you can get one from above.\n",
    "\n",
    "In fact, lets get them and store these values as variables in this workbook\n",
    "\n",
    "TODO - Add in dns configuration here"
   ]
  },
  {
   "cell_type": "code",
   "execution_count": 92,
   "id": "fd580ac9-2d8a-4eb6-a320-e55d536cf784",
   "metadata": {
    "collapsed": false
   },
   "outputs": [],
   "source": [
    "import json\n",
    "cloudformation_outputs_res = !aws cloudformation describe-stacks --stack-name just-my-links-dev --query 'Stacks[0].Outputs'\n",
    "cloudformation_outputs = {x['OutputKey']: x['OutputValue'] for x in json.loads(''.join(cloudformation_outputs_res))}\n",
    "application_bucket_name = cloudformation_outputs['ApplicationBucketName']\n",
    "index_service_uri = cloudformation_outputs['HttpApiUrl']\n",
    "index_service_arn = cloudformation_outputs['LambdaFunctionArn']\n",
    "auth_token_secret_arn = cloudformation_outputs['BearerTokenSecretName']"
   ]
  },
  {
   "cell_type": "code",
   "execution_count": 93,
   "id": "ef362dac-eeb1-4aca-963c-7587b4b64d7a",
   "metadata": {
    "collapsed": false
   },
   "outputs": [
    {
     "data": {
      "text/plain": [
       "(401, '{\"error\":\"Unauthorized\"}')"
      ]
     },
     "execution_count": 93,
     "metadata": {},
     "output_type": "execute_result"
    }
   ],
   "source": [
    "import requests\n",
    "\n",
    "response = requests.post(\n",
    "    index_service_uri,\n",
    "    headers={\"Content-Type\": \"application/json\"},\n",
    "    json={\"url\": \"https://example.com\", \"title\": \"Test Document\"}\n",
    ")\n",
    "response.status_code, response.text"
   ]
  },
  {
   "cell_type": "markdown",
   "id": "27c63d15-423e-4527-9ddb-7e25ac0b9a46",
   "metadata": {
    "collapsed": false
   },
   "source": [
    "And see the logs"
   ]
  },
  {
   "cell_type": "code",
   "execution_count": 95,
   "id": "1a1152a7-2c97-4ee1-acd9-0d18bc4d8264",
   "metadata": {
    "collapsed": false
   },
   "outputs": [
    {
     "name": "stdout",
     "output_type": "stream",
     "text": [
      "\u001b[32m2025-06-05T23:13:57.768000+00:00\u001b[0m \u001b[36m2025/06/05/[$LATEST]e82281bb35a246999e6b793e72302b2f\u001b[0m START RequestId: ab2287e1-0d6c-4e8f-8da2-ab2e581cf391 Version: $LATEST\r\n",
      "\u001b[32m2025-06-05T23:13:57.769000+00:00\u001b[0m \u001b[36m2025/06/05/[$LATEST]e82281bb35a246999e6b793e72302b2f\u001b[0m {\"level\":\"INFO\",\"location\":\"lambda_handler:110\",\"message\":\"Lambda handler invoked\",\"timestamp\":\"2025-06-05 23:13:57,769+0000\",\"service\":\"service_undefined\",\"cold_start\":true,\"function_name\":\"dev-just-my-links-index-document\",\"function_memory_size\":\"1024\",\"function_arn\":\"arn:aws:lambda:us-east-1:145216492484:function:dev-just-my-links-index-document\",\"function_request_id\":\"ab2287e1-0d6c-4e8f-8da2-ab2e581cf391\",\"correlation_id\":\"LtqsFi-yIAMEZ1w=\",\"event_type\":\"unknown\",\"xray_trace_id\":\"1-684224b3-6315e57a476fb72c3d301224\"}\r\n",
      "\u001b[32m2025-06-05T23:13:57.770000+00:00\u001b[0m \u001b[36m2025/06/05/[$LATEST]e82281bb35a246999e6b793e72302b2f\u001b[0m {\"_aws\":{\"Timestamp\":1749165237769,\"CloudWatchMetrics\":[{\"Namespace\":\"just-my-links\",\"Dimensions\":[[]],\"Metrics\":[{\"Name\":\"UnauthorizedRequests\",\"Unit\":\"Count\"}]}]},\"UnauthorizedRequests\":[1.0]}\r\n",
      "\u001b[32m2025-06-05T23:13:57.776000+00:00\u001b[0m \u001b[36m2025/06/05/[$LATEST]e82281bb35a246999e6b793e72302b2f\u001b[0m END RequestId: ab2287e1-0d6c-4e8f-8da2-ab2e581cf391\r\n",
      "\u001b[32m2025-06-05T23:13:57.776000+00:00\u001b[0m \u001b[36m2025/06/05/[$LATEST]e82281bb35a246999e6b793e72302b2f\u001b[0m REPORT RequestId: ab2287e1-0d6c-4e8f-8da2-ab2e581cf391\tDuration: 8.47 ms\tBilled Duration: 2017 ms\tMemory Size: 1024 MB\tMax Memory Used: 97 MB\tInit Duration: 2007.88 ms\r\n"
     ]
    },
    {
     "name": "stdout",
     "output_type": "stream",
     "text": [
      "\u001b[0m"
     ]
    }
   ],
   "source": [
    "!aws logs tail /aws/lambda/dev-just-my-links-index-document"
   ]
  },
  {
   "cell_type": "markdown",
   "id": "7ba13702-7698-4204-9713-449a9ebe9cdd",
   "metadata": {
    "collapsed": false
   },
   "source": [
    "Where did that `Unauthorized` come from? Why from our authentication of course!\n",
    "\n",
    "It is important at this point to change our secret"
   ]
  },
  {
   "cell_type": "code",
   "execution_count": null,
   "id": "0a028aed-82e4-47aa-b9fe-9cc6521f7bd9",
   "metadata": {
    "collapsed": false
   },
   "outputs": [],
   "source": [
    "from uuid import uuid4\n",
    "auth_token=str(uuid4())\n",
    "!aws secretsmanager update-secret --secret-id \"$auth_token_secret_arn\" --secret-string \"$auth_token\""
   ]
  },
  {
   "cell_type": "code",
   "execution_count": 98,
   "id": "db8869b1-f9b7-48ba-b18a-4f7cddd7e8e8",
   "metadata": {
    "collapsed": false
   },
   "outputs": [
    {
     "data": {
      "text/plain": [
       "(501,\n",
       " '{\"message\":\"Not yet implemented - will download ChromaDB from S3, operate locally, then upload back\"}')"
      ]
     },
     "execution_count": 98,
     "metadata": {},
     "output_type": "execute_result"
    }
   ],
   "source": [
    "response = requests.post(\n",
    "    index_service_uri,\n",
    "    headers={\"Content-Type\": \"application/json\", \"Authorization\": f\"Bearer {auth_token}\"},\n",
    "    json={\"url\": \"https://example.com\", \"title\": \"Test Document\"}\n",
    ")\n",
    "\n",
    "response.status_code, response.text"
   ]
  },
  {
   "cell_type": "markdown",
   "id": "f7bd9aea-d0b3-40e0-bfb0-4c452a81d097",
   "metadata": {
    "collapsed": false
   },
   "source": [
    "Deploy changes to the lambda image with index-service deployment script"
   ]
  },
  {
   "cell_type": "code",
   "execution_count": null,
   "id": "3126b0d1-e7e9-4292-a5af-1f57a23f0f51",
   "metadata": {
    "collapsed": false
   },
   "outputs": [],
   "source": [
    "! scripts/deploy-indexing-service.py dev"
   ]
  },
  {
   "cell_type": "markdown",
   "id": "659ba194-bf34-442b-8387-05249a0aa8c0",
   "metadata": {
    "collapsed": false
   },
   "source": [
    "Turn on debug logging with"
   ]
  },
  {
   "cell_type": "code",
   "execution_count": null,
   "id": "84d323f0-fcd5-4085-a711-d0d4d17b61da",
   "metadata": {
    "collapsed": false
   },
   "outputs": [],
   "source": [
    "import boto3\n",
    "\n",
    "function_name = 'dev-just-my-links-index-document'\n",
    "lambda_client = boto3.client('lambda')\n",
    "\n",
    "response = lambda_client.get_function_configuration(FunctionName=function_name)\n",
    "\n",
    "current_variables = {**response.get('Environment', {}).get('Variables', {}), \"LOG_LEVEL\": \"DEBUG\"}\n",
    "\n",
    "lambda_client.update_function_configuration(FunctionName=function_name, Environment={'Variables': current_variables})"
   ]
  },
  {
   "cell_type": "code",
   "execution_count": 102,
   "id": "ef2f173a-32a6-495e-aecc-d98d1363b1d8",
   "metadata": {
    "collapsed": false
   },
   "outputs": [
    {
     "name": "stdout",
     "output_type": "stream",
     "text": [
      "\u001b[32m2025-06-05T23:13:57.768000+00:00\u001b[0m \u001b[36m2025/06/05/[$LATEST]e82281bb35a246999e6b793e72302b2f\u001b[0m START RequestId: ab2287e1-0d6c-4e8f-8da2-ab2e581cf391 Version: $LATEST\r\n",
      "\u001b[32m2025-06-05T23:13:57.769000+00:00\u001b[0m \u001b[36m2025/06/05/[$LATEST]e82281bb35a246999e6b793e72302b2f\u001b[0m {\"level\":\"INFO\",\"location\":\"lambda_handler:110\",\"message\":\"Lambda handler invoked\",\"timestamp\":\"2025-06-05 23:13:57,769+0000\",\"service\":\"service_undefined\",\"cold_start\":true,\"function_name\":\"dev-just-my-links-index-document\",\"function_memory_size\":\"1024\",\"function_arn\":\"arn:aws:lambda:us-east-1:145216492484:function:dev-just-my-links-index-document\",\"function_request_id\":\"ab2287e1-0d6c-4e8f-8da2-ab2e581cf391\",\"correlation_id\":\"LtqsFi-yIAMEZ1w=\",\"event_type\":\"unknown\",\"xray_trace_id\":\"1-684224b3-6315e57a476fb72c3d301224\"}\r\n",
      "\u001b[32m2025-06-05T23:13:57.770000+00:00\u001b[0m \u001b[36m2025/06/05/[$LATEST]e82281bb35a246999e6b793e72302b2f\u001b[0m {\"_aws\":{\"Timestamp\":1749165237769,\"CloudWatchMetrics\":[{\"Namespace\":\"just-my-links\",\"Dimensions\":[[]],\"Metrics\":[{\"Name\":\"UnauthorizedRequests\",\"Unit\":\"Count\"}]}]},\"UnauthorizedRequests\":[1.0]}\r\n",
      "\u001b[32m2025-06-05T23:13:57.776000+00:00\u001b[0m \u001b[36m2025/06/05/[$LATEST]e82281bb35a246999e6b793e72302b2f\u001b[0m END RequestId: ab2287e1-0d6c-4e8f-8da2-ab2e581cf391\r\n",
      "\u001b[32m2025-06-05T23:13:57.776000+00:00\u001b[0m \u001b[36m2025/06/05/[$LATEST]e82281bb35a246999e6b793e72302b2f\u001b[0m REPORT RequestId: ab2287e1-0d6c-4e8f-8da2-ab2e581cf391\tDuration: 8.47 ms\tBilled Duration: 2017 ms\tMemory Size: 1024 MB\tMax Memory Used: 97 MB\tInit Duration: 2007.88 ms\r\n",
      "\u001b[32m2025-06-05T23:14:46.234000+00:00\u001b[0m \u001b[36m2025/06/05/[$LATEST]e82281bb35a246999e6b793e72302b2f\u001b[0m START RequestId: b054aeee-02c2-495e-a1a4-11a6322db96c Version: $LATEST\r\n",
      "\u001b[32m2025-06-05T23:14:46.235000+00:00\u001b[0m \u001b[36m2025/06/05/[$LATEST]e82281bb35a246999e6b793e72302b2f\u001b[0m {\"level\":\"INFO\",\"location\":\"lambda_handler:110\",\"message\":\"Lambda handler invoked\",\"timestamp\":\"2025-06-05 23:14:46,235+0000\",\"service\":\"service_undefined\",\"cold_start\":false,\"function_name\":\"dev-just-my-links-index-document\",\"function_memory_size\":\"1024\",\"function_arn\":\"arn:aws:lambda:us-east-1:145216492484:function:dev-just-my-links-index-document\",\"function_request_id\":\"b054aeee-02c2-495e-a1a4-11a6322db96c\",\"correlation_id\":\"Ltq0Bg24oAMEZlA=\",\"event_type\":\"unknown\",\"xray_trace_id\":\"1-684224e6-4abdd6b6327efdf61eb08309\"}\r\n",
      "\u001b[32m2025-06-05T23:14:46.320000+00:00\u001b[0m \u001b[36m2025/06/05/[$LATEST]e82281bb35a246999e6b793e72302b2f\u001b[0m {\"level\":\"INFO\",\"location\":\"index_document:83\",\"message\":\"Received document indexing request\",\"timestamp\":\"2025-06-05 23:14:46,320+0000\",\"service\":\"service_undefined\",\"cold_start\":false,\"function_name\":\"dev-just-my-links-index-document\",\"function_memory_size\":\"1024\",\"function_arn\":\"arn:aws:lambda:us-east-1:145216492484:function:dev-just-my-links-index-document\",\"function_request_id\":\"b054aeee-02c2-495e-a1a4-11a6322db96c\",\"correlation_id\":\"Ltq0Bg24oAMEZlA=\",\"xray_trace_id\":\"1-684224e6-4abdd6b6327efdf61eb08309\"}\r\n",
      "\u001b[32m2025-06-05T23:14:46.320000+00:00\u001b[0m \u001b[36m2025/06/05/[$LATEST]e82281bb35a246999e6b793e72302b2f\u001b[0m /var/lang/lib/python3.13/site-packages/aws_lambda_powertools/metrics/provider/base.py:211: UserWarning: No application metrics to publish. The cold-start metric may be published if enabled. If application metrics should never be empty, consider using 'raise_on_empty_metrics'\r\n",
      "\u001b[32m2025-06-05T23:14:46.320000+00:00\u001b[0m \u001b[36m2025/06/05/[$LATEST]e82281bb35a246999e6b793e72302b2f\u001b[0m self.flush_metrics(raise_on_empty_metrics=raise_on_empty_metrics)\r\n",
      "\u001b[32m2025-06-05T23:14:46.322000+00:00\u001b[0m \u001b[36m2025/06/05/[$LATEST]e82281bb35a246999e6b793e72302b2f\u001b[0m END RequestId: b054aeee-02c2-495e-a1a4-11a6322db96c\r\n",
      "\u001b[32m2025-06-05T23:14:46.322000+00:00\u001b[0m \u001b[36m2025/06/05/[$LATEST]e82281bb35a246999e6b793e72302b2f\u001b[0m REPORT RequestId: b054aeee-02c2-495e-a1a4-11a6322db96c\tDuration: 87.76 ms\tBilled Duration: 88 ms\tMemory Size: 1024 MB\tMax Memory Used: 98 MB\r\n"
     ]
    },
    {
     "name": "stdout",
     "output_type": "stream",
     "text": [
      "\u001b[0m"
     ]
    }
   ],
   "source": [
    "!aws logs tail /aws/lambda/dev-just-my-links-index-document"
   ]
  }
 ],
 "metadata": {
  "kernelspec": {
   "argv": [
    "python",
    "-m",
    "ipykernel_launcher",
    "-f",
    "{connection_file}"
   ],
   "display_name": "Python 3 (ipykernel)",
   "env": null,
   "interrupt_mode": "signal",
   "language": "python",
   "metadata": {
    "debugger": true
   },
   "name": "python3"
  },
  "language_info": {
   "codemirror_mode": {
    "name": "ipython",
    "version": 3
   },
   "file_extension": ".py",
   "mimetype": "text/x-python",
   "name": "python",
   "nbconvert_exporter": "python",
   "pygments_lexer": "ipython3",
   "version": "3.8.10"
  },
  "name": "aws-configuration.ipynb"
 },
 "nbformat": 4,
 "nbformat_minor": 4
}
