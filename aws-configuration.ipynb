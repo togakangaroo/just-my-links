{
 "cells": [
  {
   "cell_type": "markdown",
   "id": "0777a628-b4be-4b8e-bbf1-5bf2695b9a62",
   "metadata": {
    "collapsed": false
   },
   "source": [
    "# AWS SSO Configuration\n",
    "\n",
    "This notebook guides you through setting up AWS SSO for easier admin CLI access. When done, you will be able to log into your AWS account from the cli with something like this:\n",
    "\n",
    "```shell\n",
    "export AWS_PROFILE=just-my-links\n",
    "aws sso login\n",
    "```\n",
    "\n",
    "While not necessary to do it this way, it makes it easier to use AWS from your CLI. You do need CLI access to AWS if you are going to be running Terraform locally (which is very helpful for development).\n",
    "\n",
    "Note that this is *only a good idea* for the admin account you use to inspect and interact with AWS in the course of ops duties. You do not want to (and in fact can't) use this process for CI/CD.\n",
    "\n",
    "To do this you first need to\n",
    "\n",
    "- Have or create an AWS account (you will need to supply a payment method though the expectation is that usage will be low enough to not get billed.)\n",
    "- Log into your AWS account via the UI.\n",
    "  - Ideally as part of account creation you created a superuser non-root account that you are using. Avoid using the root user whenever possible!\n",
    "- Navigate to *IAM Identity Center* and click *Enable*"
   ]
  },
  {
   "cell_type": "markdown",
   "id": "c548e16a-a3fb-4afc-9ac8-b6eb1254ecd4",
   "metadata": {
    "collapsed": false
   },
   "source": [
    "Now we want to set up an sso user.\n",
    "\n",
    "The following will all be in CloudShell console in the browser. Code is denoted in markdown specifically for that reason - it is not meant to be run locally on your machine since you have not set up your cli to connect to aws yet. Instead, copy and paste it into Cloudshell within the AWS console in your browser.\n",
    "\n",
    "When Identity Center is enabled you should be able to run this to see an instance of an organization:\n",
    "\n",
    "```shell\n",
    "aws sso-admin list-instances\n",
    "```\n",
    "\n",
    "The following assumes that you have just one instance above. If not you will want to identify what the correct one is (probably the one with \"sso\" in the arn) and use its arn instead of the dynamically queried one below\n",
    "\n",
    "Lets record our instance arn, account id, and identity store id into variables within the current CLI session just so we have rapid access to them\n",
    "```shell\n",
    "ACCOUNT_ID=$(aws sts get-caller-identity --query \"Account\" --output text)\n",
    "INSTANCE_ARN=$(aws sso-admin list-instances --query 'Instances[0].InstanceArn' --output text)\n",
    "IDENTITY_STORE_ID=$(aws sso-admin list-instances --query 'Instances[0].IdentityStoreId' --output text)\n",
    "```\n",
    "\n",
    "Note the `IDENTITY_STORE_ID` above. Your sso instance has a url that you will visit to log in, you will need to note it. It will be something like `https://d-00000000bba.awsapps.com/start/#` you can get it with\n",
    "```shell\n",
    "echo \"https://$IDENTITY_STORE_ID.awsapps.com/start/#\"\n",
    "```\n",
    "\n",
    "You'll need this for sso configuration further down\n",
    "\n",
    "Then create an admin permission set:\n",
    "```shell\n",
    "aws sso-admin create-permission-set \\\n",
    "  --instance-arn \"$INSTANCE_ARN\" \\\n",
    "  --name \"AdministratorAccess\" \\\n",
    "  --description \"Provides full access to AWS services and resources\" \\\n",
    "  --session-duration \"PT8H\"\n",
    "```\n",
    "Note the permission set arn noted above you will use it. Assuming it is the only one (it should be), you can set it manually the variable below or just run this\n",
    "\n",
    "```shell\n",
    "PERMISSION_SET_ARN=$(aws sso-admin list-permission-sets-provisioned-to-account \\\n",
    "                        --instance-arn \"$INSTANCE_ARN\" \\\n",
    "                        --account-id \"$ACCOUNT_ID\" \\\n",
    "                        --output text \\\n",
    "                        --query \"PermissionSets[0]\")\n",
    "```\n",
    "\n",
    "We then want to attach the admin access policy to this permission set.\n",
    "\n",
    "Use this to determine if the first found permission set is indeed the admin permission set - it will say \"AdministratorAccess\"\n",
    "\n",
    "```shell\n",
    "aws sso-admin describe-permission-set \\\n",
    "  --instance-arn \"$INSTANCE_ARN\" \\\n",
    "  --permission-set-arn \"$PERMISSION_SET_ARN\"\n",
    "```\n",
    "\n",
    "Then if so, attach the admin policy:\n",
    "\n",
    "```shell\n",
    "aws sso-admin attach-managed-policy-to-permission-set \\\n",
    "  --instance-arn \"$INSTANCE_ARN\"\n",
    "  --permission-set-arn \"$PERMISSION_SET_ARN\" \\\n",
    "  --managed-policy-arn \"arn:aws:iam::aws:policy/AdministratorAccess\"\n",
    "```\n",
    "\n",
    "Create an sso user for yourself. **Use your own values for email and name!** I don't want to be getting your reset links.\n",
    "```shell\n",
    "MY_EMAIL=gmauer@gmail.com\n",
    "MY_GIVEN_NAME=George\n",
    "MY_FAMILY_NAME=Mauer\n",
    "aws identitystore create-user \\\n",
    "  --identity-store-id \"$IDENTITY_STORE_ID\" \\\n",
    "  --user-name \"$MY_EMAIL\" \\\n",
    "  --name \"GivenName=$MY_GIVEN_NAME,FamilyName=$MY_FAMILY_NAME\" \\\n",
    "  --emails \"Value=$MY_EMAIL,Type=Primary\" \\\n",
    "  --display-name \"$MY_GIVEN_NAME $MY_FAMILY_NAME\"\n",
    "```\n",
    "\n",
    "Now lets assign admin access to this user. Note that the below looks up the id of the user created above by username. If you have it you can just sub it in\n",
    "\n",
    "```shell\n",
    "aws sso-admin create-account-assignment \\\n",
    "  --instance-arn \"$INSTANCE_ARN\" \\\n",
    "  --target-id \"$ACCOUNT_ID\" \\\n",
    "  --target-type AWS_ACCOUNT \\\n",
    "  --permission-set-arn \"$PERMISSION_SET_ARN\" \\\n",
    "  --principal-type USER \\\n",
    "  --principal-id $(aws identitystore list-users --identity-store-id $\"$IDENTITY_STORE_ID\" --filters \"AttributePath=UserName,AttributeValue=$MY_EMAIL\" --query 'Users[0].UserId' --output text)\n",
    "```\n",
    "\n",
    "Finally, you will need to set up a password for this user. *This is not doable through the CLI*.\n",
    "- Check your email, you will likely have to click a link to confirm it.\n",
    "- Go to the IAM Identity Center\n",
    "- Navigate to Users\n",
    "- Select your user\n",
    "- Click the \"Reset Password\" button\n",
    "\n",
    "You may select the appropriate thing at this point but a straightforward recommendation is to select \"generate a one-time password\" and copy it to be used when logging in"
   ]
  },
  {
   "cell_type": "markdown",
   "id": "1563a5b6-3baa-4869-b599-320813190f83",
   "metadata": {
    "collapsed": false
   },
   "source": [
    "For this next part you'll need the sso login url we calculated above from the `IDENTITY_STORE_ID` and your new user email/password. \n",
    "\n",
    "*The following is in the local CLI* and you should have to do it only once:"
   ]
  },
  {
   "cell_type": "code",
   "execution_count": null,
   "id": "dcdf0a4b-b498-4e46-bf5a-6ba73bed397b",
   "metadata": {
    "collapsed": false
   },
   "outputs": [],
   "source": [
    "!aws configure sso"
   ]
  },
  {
   "cell_type": "markdown",
   "id": "1a8469bd-05d0-4455-9fdb-1bda8e97ae7f",
   "metadata": {
    "collapsed": false
   },
   "source": [
    "During login, reset your password [using your password manager](https://1password.com/) and ideally set up MFA. Click through menues to eventually get the AWS apps account screen. This is very useful for managing multiple aws accounts. Here you can log into a specific account as a user or view sso keys, however we're just going to set up a profile locally so you can click off of this screen.\n",
    "\n",
    "For the following you'll need the `ACCOUNT_ID` from above and the SSO login url you just use. Create an entry in [~/.aws/config](~/.aws/config) that looks like this:\n",
    "\n",
    "```toml\n",
    "[profile just-my-links]\n",
    "sso_start_url = FILL_IN_YOUR_SSO_LINK\n",
    "sso_account_id = FILL_IN_YOUR_ACCOUNT_ID\n",
    "sso_region = us-east-1\n",
    "sso_role_name = AdministratorAccess\n",
    "sso_session_name = default\n",
    "output = json\n",
    "region = us-east-1\n",
    "```"
   ]
  },
  {
   "cell_type": "markdown",
   "id": "2c25190c-3576-4c52-8b8d-945b8b19c1bc",
   "metadata": {
    "collapsed": false
   },
   "source": [
    "You may then login with SSO by first setting your aws profile to use the `just-my-links` profile"
   ]
  },
  {
   "cell_type": "code",
   "execution_count": null,
   "id": "4e41ef53-34b7-4037-a687-1171012bc52d",
   "metadata": {
    "collapsed": true
   },
   "outputs": [
    {
     "name": "stdout",
     "output_type": "stream",
     "text": [
      "env: AWS_PROFILE=just-my-links\n"
     ]
    }
   ],
   "source": [
    "%env AWS_PROFILE=just-my-links"
   ]
  },
  {
   "cell_type": "markdown",
   "id": "897b94b4-2803-4ba4-969c-e3ea59ddc412",
   "metadata": {
    "collapsed": false
   },
   "source": [
    "And finally you can log in"
   ]
  },
  {
   "cell_type": "code",
   "execution_count": null,
   "id": "96a2171f-2c89-4e82-962a-882db1bdcec1",
   "metadata": {
    "collapsed": false
   },
   "outputs": [],
   "source": [
    "!aws sso login"
   ]
  },
  {
   "cell_type": "markdown",
   "id": "292ba2d2-2655-4e16-b387-558999a82343",
   "metadata": {
    "collapsed": false
   },
   "source": [
    "A browser window will open and you will be prompted to click through a series of screens (remember to use your password manager!). You may also visit the above link manually and click through.\n",
    "\n",
    "You will now be connected to your aws account. Note that the way `aws sso` works, your login is per-profile, not per-cli-session. You don't need to manage aws keys environment variables or anything like that. So long as the profile used is the above, you will be logged in as long as your sso session lasts. Running the following should show you your logged in user identity."
   ]
  },
  {
   "cell_type": "code",
   "execution_count": 5,
   "id": "fe88aeec-3b8f-41cb-b7dc-ccf306c977f0",
   "metadata": {
    "collapsed": true
   },
   "outputs": [
    {
     "name": "stdout",
     "output_type": "stream",
     "text": [
      "{\r\n",
      "    \"UserId\": \"AROASDT4T2PCFCLRY32IU:gmauer@gmail.com\",\r\n",
      "    \"Account\": \"145216492484\",\r\n",
      "    \"Arn\": \"arn:aws:sts::145216492484:assumed-role/AWSReservedSSO_AdministratorAccess_7d6c5139d9951c91/gmauer@gmail.com\"\r\n",
      "}\r\n"
     ]
    }
   ],
   "source": [
    "!aws sts get-caller-identity"
   ]
  },
  {
   "cell_type": "markdown",
   "id": "0288eb0c-8f96-4fe6-b9ae-eb4eb565e371",
   "metadata": {
    "collapsed": false
   },
   "source": [
    "This session will last as we configured in the permission set (8h above) and as long as your `aws` environment knows which profile to use (typically by ensuring the `AWS_PROFILE` environment variable is set) you will be logged in.\n",
    "\n",
    "Be careful with this, your local cli now has admin access!"
   ]
  }
 ],
 "metadata": {
  "kernelspec": {
   "argv": [
    "python",
    "-m",
    "ipykernel_launcher",
    "-f",
    "{connection_file}"
   ],
   "display_name": "Python 3 (ipykernel)",
   "env": null,
   "interrupt_mode": "signal",
   "language": "python",
   "metadata": {
    "debugger": true
   },
   "name": "python3"
  },
  "language_info": {
   "codemirror_mode": {
    "name": "ipython",
    "version": 3
   },
   "file_extension": ".py",
   "mimetype": "text/x-python",
   "name": "python",
   "nbconvert_exporter": "python",
   "pygments_lexer": "ipython3",
   "version": "3.8.10"
  },
  "name": "aws-configuration.ipynb"
 },
 "nbformat": 4,
 "nbformat_minor": 4
}
